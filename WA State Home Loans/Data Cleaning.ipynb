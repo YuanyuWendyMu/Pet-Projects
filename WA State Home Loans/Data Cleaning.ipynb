{
 "cells": [
  {
   "cell_type": "code",
   "execution_count": 1,
   "metadata": {},
   "outputs": [],
   "source": [
    "import pandas as pd\n",
    "import numpy as np"
   ]
  },
  {
   "cell_type": "code",
   "execution_count": 2,
   "metadata": {},
   "outputs": [
    {
     "name": "stderr",
     "output_type": "stream",
     "text": [
      "C:\\Users\\Wendy\\Anaconda3\\lib\\site-packages\\IPython\\core\\interactiveshell.py:3049: DtypeWarning: Columns (23,24,25,28,29,30,38,39,40) have mixed types. Specify dtype option on import or set low_memory=False.\n",
      "  interactivity=interactivity, compiler=compiler, result=result)\n"
     ]
    }
   ],
   "source": [
    "df = pd.read_csv('Washington_State_HDMA-2016.csv')"
   ]
  },
  {
   "cell_type": "markdown",
   "metadata": {},
   "source": [
    "Take a look"
   ]
  },
  {
   "cell_type": "code",
   "execution_count": 5,
   "metadata": {},
   "outputs": [
    {
     "data": {
      "text/plain": [
       "(466566, 47)"
      ]
     },
     "execution_count": 5,
     "metadata": {},
     "output_type": "execute_result"
    }
   ],
   "source": [
    "df.shape"
   ]
  },
  {
   "cell_type": "code",
   "execution_count": 3,
   "metadata": {},
   "outputs": [
    {
     "data": {
      "text/plain": [
       "tract_to_msamd_income                615\n",
       "rate_spread                       457928\n",
       "population                           610\n",
       "minority_population                  610\n",
       "number_of_owner_occupied_units       622\n",
       "number_of_1_to_4_family_units        611\n",
       "loan_amount_000s                       0\n",
       "hud_median_family_income             606\n",
       "applicant_income_000s              62033\n",
       "state_name                             0\n",
       "state_abbr                             0\n",
       "sequence_number                        0\n",
       "respondent_id                          0\n",
       "purchaser_type_name                    0\n",
       "property_type_name                     0\n",
       "preapproval_name                       0\n",
       "owner_occupancy_name                   0\n",
       "msamd_name                         38274\n",
       "loan_type_name                         0\n",
       "loan_purpose_name                      0\n",
       "lien_status_name                       0\n",
       "hoepa_status_name                      0\n",
       "edit_status_name                  392061\n",
       "denial_reason_name_3              465320\n",
       "denial_reason_name_2              459820\n",
       "denial_reason_name_1              432067\n",
       "county_name                          367\n",
       "co_applicant_sex_name                  0\n",
       "co_applicant_race_name_5          466552\n",
       "co_applicant_race_name_4          466545\n",
       "co_applicant_race_name_3          466461\n",
       "co_applicant_race_name_2          464704\n",
       "co_applicant_race_name_1               0\n",
       "co_applicant_ethnicity_name            0\n",
       "census_tract_number                  606\n",
       "as_of_year                             0\n",
       "application_date_indicator             0\n",
       "applicant_sex_name                     0\n",
       "applicant_race_name_5             466520\n",
       "applicant_race_name_4             466498\n",
       "applicant_race_name_3             466269\n",
       "applicant_race_name_2             462088\n",
       "applicant_race_name_1                  0\n",
       "applicant_ethnicity_name               0\n",
       "agency_name                            0\n",
       "agency_abbr                            0\n",
       "action_taken_name                      0\n",
       "dtype: int64"
      ]
     },
     "execution_count": 3,
     "metadata": {},
     "output_type": "execute_result"
    }
   ],
   "source": [
    "df.isna().sum()"
   ]
  },
  {
   "cell_type": "code",
   "execution_count": 6,
   "metadata": {},
   "outputs": [
    {
     "data": {
      "text/plain": [
       "array([2016], dtype=int64)"
      ]
     },
     "execution_count": 6,
     "metadata": {},
     "output_type": "execute_result"
    }
   ],
   "source": [
    "df['as_of_year'].unique()"
   ]
  },
  {
   "cell_type": "markdown",
   "metadata": {},
   "source": [
    "Drop columns that we do not need. DD here: https://cfpb.github.io/api/hmda/fields.html"
   ]
  },
  {
   "cell_type": "code",
   "execution_count": 11,
   "metadata": {},
   "outputs": [],
   "source": [
    "df1 = df.drop(columns = ['rate_spread','edit_status_name','denial_reason_name_1','denial_reason_name_2',\\\n",
    "                         'denial_reason_name_3','co_applicant_race_name_2','co_applicant_race_name_3',\\\n",
    "                        'co_applicant_race_name_4','co_applicant_race_name_5','applicant_race_name_2',\\\n",
    "                        'applicant_race_name_3','applicant_race_name_4','applicant_race_name_5','msamd_name',\\\n",
    "                         'census_tract_number'])"
   ]
  },
  {
   "cell_type": "code",
   "execution_count": 12,
   "metadata": {},
   "outputs": [
    {
     "data": {
      "text/plain": [
       "tract_to_msamd_income               615\n",
       "population                          610\n",
       "minority_population                 610\n",
       "number_of_owner_occupied_units      622\n",
       "number_of_1_to_4_family_units       611\n",
       "loan_amount_000s                      0\n",
       "hud_median_family_income            606\n",
       "applicant_income_000s             62033\n",
       "state_name                            0\n",
       "state_abbr                            0\n",
       "sequence_number                       0\n",
       "respondent_id                         0\n",
       "purchaser_type_name                   0\n",
       "property_type_name                    0\n",
       "preapproval_name                      0\n",
       "owner_occupancy_name                  0\n",
       "loan_type_name                        0\n",
       "loan_purpose_name                     0\n",
       "lien_status_name                      0\n",
       "hoepa_status_name                     0\n",
       "county_name                         367\n",
       "co_applicant_sex_name                 0\n",
       "co_applicant_race_name_1              0\n",
       "co_applicant_ethnicity_name           0\n",
       "as_of_year                            0\n",
       "application_date_indicator            0\n",
       "applicant_sex_name                    0\n",
       "applicant_race_name_1                 0\n",
       "applicant_ethnicity_name              0\n",
       "agency_name                           0\n",
       "agency_abbr                           0\n",
       "action_taken_name                     0\n",
       "dtype: int64"
      ]
     },
     "execution_count": 12,
     "metadata": {},
     "output_type": "execute_result"
    }
   ],
   "source": [
    "df1.isna().sum()"
   ]
  },
  {
   "cell_type": "markdown",
   "metadata": {},
   "source": [
    "Drop NAs in *country_code*."
   ]
  },
  {
   "cell_type": "code",
   "execution_count": 13,
   "metadata": {},
   "outputs": [],
   "source": [
    "df2 = df1.dropna(subset=['county_name'])"
   ]
  },
  {
   "cell_type": "code",
   "execution_count": 15,
   "metadata": {},
   "outputs": [
    {
     "data": {
      "text/plain": [
       "(466199, 32)"
      ]
     },
     "execution_count": 15,
     "metadata": {},
     "output_type": "execute_result"
    }
   ],
   "source": [
    "df2.shape"
   ]
  },
  {
   "cell_type": "markdown",
   "metadata": {},
   "source": [
    "Fill NAs in *application_income_000s* with the mean value of the county the application is in."
   ]
  },
  {
   "cell_type": "code",
   "execution_count": 16,
   "metadata": {
    "scrolled": true
   },
   "outputs": [
    {
     "name": "stderr",
     "output_type": "stream",
     "text": [
      "C:\\Users\\Wendy\\Anaconda3\\lib\\site-packages\\ipykernel_launcher.py:2: SettingWithCopyWarning: \n",
      "A value is trying to be set on a copy of a slice from a DataFrame.\n",
      "Try using .loc[row_indexer,col_indexer] = value instead\n",
      "\n",
      "See the caveats in the documentation: http://pandas.pydata.org/pandas-docs/stable/indexing.html#indexing-view-versus-copy\n",
      "  \n"
     ]
    }
   ],
   "source": [
    "df2['applicant_income_000s'] = df2.groupby(['county_name'])['applicant_income_000s']\\\n",
    "    .transform(lambda x: x.fillna(x.mean()))"
   ]
  },
  {
   "cell_type": "markdown",
   "metadata": {},
   "source": [
    "Drop all other NAs. (0.13% records)"
   ]
  },
  {
   "cell_type": "code",
   "execution_count": 19,
   "metadata": {},
   "outputs": [],
   "source": [
    "df2 = df2.dropna()"
   ]
  },
  {
   "cell_type": "code",
   "execution_count": 21,
   "metadata": {},
   "outputs": [
    {
     "data": {
      "text/plain": [
       "(465940, 32)"
      ]
     },
     "execution_count": 21,
     "metadata": {},
     "output_type": "execute_result"
    }
   ],
   "source": [
    "df2.shape"
   ]
  },
  {
   "cell_type": "code",
   "execution_count": 24,
   "metadata": {},
   "outputs": [
    {
     "data": {
      "text/plain": [
       "0.001341717999168392"
      ]
     },
     "execution_count": 24,
     "metadata": {},
     "output_type": "execute_result"
    }
   ],
   "source": [
    "(466566 - 465940)/ 466566"
   ]
  },
  {
   "cell_type": "code",
   "execution_count": 25,
   "metadata": {},
   "outputs": [
    {
     "data": {
      "text/plain": [
       "tract_to_msamd_income             0\n",
       "population                        0\n",
       "minority_population               0\n",
       "number_of_owner_occupied_units    0\n",
       "number_of_1_to_4_family_units     0\n",
       "loan_amount_000s                  0\n",
       "hud_median_family_income          0\n",
       "applicant_income_000s             0\n",
       "state_name                        0\n",
       "state_abbr                        0\n",
       "sequence_number                   0\n",
       "respondent_id                     0\n",
       "purchaser_type_name               0\n",
       "property_type_name                0\n",
       "preapproval_name                  0\n",
       "owner_occupancy_name              0\n",
       "loan_type_name                    0\n",
       "loan_purpose_name                 0\n",
       "lien_status_name                  0\n",
       "hoepa_status_name                 0\n",
       "county_name                       0\n",
       "co_applicant_sex_name             0\n",
       "co_applicant_race_name_1          0\n",
       "co_applicant_ethnicity_name       0\n",
       "as_of_year                        0\n",
       "application_date_indicator        0\n",
       "applicant_sex_name                0\n",
       "applicant_race_name_1             0\n",
       "applicant_ethnicity_name          0\n",
       "agency_name                       0\n",
       "agency_abbr                       0\n",
       "action_taken_name                 0\n",
       "dtype: int64"
      ]
     },
     "execution_count": 25,
     "metadata": {},
     "output_type": "execute_result"
    }
   ],
   "source": [
    "df2.isna().sum()"
   ]
  },
  {
   "cell_type": "markdown",
   "metadata": {},
   "source": [
    "Create Column *loan_id* for later viz in Tableau."
   ]
  },
  {
   "cell_type": "code",
   "execution_count": 26,
   "metadata": {},
   "outputs": [],
   "source": [
    "df2['loan_id'] = range(len(df2))"
   ]
  },
  {
   "cell_type": "code",
   "execution_count": 27,
   "metadata": {},
   "outputs": [
    {
     "data": {
      "text/html": [
       "<div>\n",
       "<style scoped>\n",
       "    .dataframe tbody tr th:only-of-type {\n",
       "        vertical-align: middle;\n",
       "    }\n",
       "\n",
       "    .dataframe tbody tr th {\n",
       "        vertical-align: top;\n",
       "    }\n",
       "\n",
       "    .dataframe thead th {\n",
       "        text-align: right;\n",
       "    }\n",
       "</style>\n",
       "<table border=\"1\" class=\"dataframe\">\n",
       "  <thead>\n",
       "    <tr style=\"text-align: right;\">\n",
       "      <th></th>\n",
       "      <th>0</th>\n",
       "      <th>1</th>\n",
       "      <th>2</th>\n",
       "      <th>3</th>\n",
       "      <th>4</th>\n",
       "    </tr>\n",
       "  </thead>\n",
       "  <tbody>\n",
       "    <tr>\n",
       "      <th>tract_to_msamd_income</th>\n",
       "      <td>121.69</td>\n",
       "      <td>83.37</td>\n",
       "      <td>91.13</td>\n",
       "      <td>146.17</td>\n",
       "      <td>162.47</td>\n",
       "    </tr>\n",
       "    <tr>\n",
       "      <th>population</th>\n",
       "      <td>8381</td>\n",
       "      <td>4915</td>\n",
       "      <td>5075</td>\n",
       "      <td>5032</td>\n",
       "      <td>5183</td>\n",
       "    </tr>\n",
       "    <tr>\n",
       "      <th>minority_population</th>\n",
       "      <td>23.79</td>\n",
       "      <td>23.99</td>\n",
       "      <td>11.82</td>\n",
       "      <td>8.59</td>\n",
       "      <td>10.5</td>\n",
       "    </tr>\n",
       "    <tr>\n",
       "      <th>number_of_owner_occupied_units</th>\n",
       "      <td>2175</td>\n",
       "      <td>1268</td>\n",
       "      <td>1136</td>\n",
       "      <td>1525</td>\n",
       "      <td>1705</td>\n",
       "    </tr>\n",
       "    <tr>\n",
       "      <th>number_of_1_to_4_family_units</th>\n",
       "      <td>2660</td>\n",
       "      <td>1777</td>\n",
       "      <td>1838</td>\n",
       "      <td>1820</td>\n",
       "      <td>2104</td>\n",
       "    </tr>\n",
       "    <tr>\n",
       "      <th>loan_amount_000s</th>\n",
       "      <td>227</td>\n",
       "      <td>240</td>\n",
       "      <td>241</td>\n",
       "      <td>351</td>\n",
       "      <td>417</td>\n",
       "    </tr>\n",
       "    <tr>\n",
       "      <th>hud_median_family_income</th>\n",
       "      <td>73300</td>\n",
       "      <td>57900</td>\n",
       "      <td>73300</td>\n",
       "      <td>73300</td>\n",
       "      <td>78100</td>\n",
       "    </tr>\n",
       "    <tr>\n",
       "      <th>applicant_income_000s</th>\n",
       "      <td>116</td>\n",
       "      <td>42</td>\n",
       "      <td>117</td>\n",
       "      <td>315</td>\n",
       "      <td>114</td>\n",
       "    </tr>\n",
       "    <tr>\n",
       "      <th>state_name</th>\n",
       "      <td>Washington</td>\n",
       "      <td>Washington</td>\n",
       "      <td>Washington</td>\n",
       "      <td>Washington</td>\n",
       "      <td>Washington</td>\n",
       "    </tr>\n",
       "    <tr>\n",
       "      <th>state_abbr</th>\n",
       "      <td>WA</td>\n",
       "      <td>WA</td>\n",
       "      <td>WA</td>\n",
       "      <td>WA</td>\n",
       "      <td>WA</td>\n",
       "    </tr>\n",
       "    <tr>\n",
       "      <th>sequence_number</th>\n",
       "      <td>119969</td>\n",
       "      <td>52605</td>\n",
       "      <td>6210</td>\n",
       "      <td>197</td>\n",
       "      <td>32582</td>\n",
       "    </tr>\n",
       "    <tr>\n",
       "      <th>respondent_id</th>\n",
       "      <td>480228</td>\n",
       "      <td>7257500009</td>\n",
       "      <td>72-1545376</td>\n",
       "      <td>4878</td>\n",
       "      <td>32489</td>\n",
       "    </tr>\n",
       "    <tr>\n",
       "      <th>purchaser_type_name</th>\n",
       "      <td>Freddie Mac (FHLMC)</td>\n",
       "      <td>Life insurance company, credit union, mortgage...</td>\n",
       "      <td>Loan was not originated or was not sold in cal...</td>\n",
       "      <td>Loan was not originated or was not sold in cal...</td>\n",
       "      <td>Freddie Mac (FHLMC)</td>\n",
       "    </tr>\n",
       "    <tr>\n",
       "      <th>property_type_name</th>\n",
       "      <td>One-to-four family dwelling (other than manufa...</td>\n",
       "      <td>One-to-four family dwelling (other than manufa...</td>\n",
       "      <td>One-to-four family dwelling (other than manufa...</td>\n",
       "      <td>One-to-four family dwelling (other than manufa...</td>\n",
       "      <td>One-to-four family dwelling (other than manufa...</td>\n",
       "    </tr>\n",
       "    <tr>\n",
       "      <th>preapproval_name</th>\n",
       "      <td>Not applicable</td>\n",
       "      <td>Not applicable</td>\n",
       "      <td>Not applicable</td>\n",
       "      <td>Not applicable</td>\n",
       "      <td>Not applicable</td>\n",
       "    </tr>\n",
       "    <tr>\n",
       "      <th>owner_occupancy_name</th>\n",
       "      <td>Owner-occupied as a principal dwelling</td>\n",
       "      <td>Owner-occupied as a principal dwelling</td>\n",
       "      <td>Owner-occupied as a principal dwelling</td>\n",
       "      <td>Owner-occupied as a principal dwelling</td>\n",
       "      <td>Owner-occupied as a principal dwelling</td>\n",
       "    </tr>\n",
       "    <tr>\n",
       "      <th>loan_type_name</th>\n",
       "      <td>Conventional</td>\n",
       "      <td>FHA-insured</td>\n",
       "      <td>Conventional</td>\n",
       "      <td>Conventional</td>\n",
       "      <td>Conventional</td>\n",
       "    </tr>\n",
       "    <tr>\n",
       "      <th>loan_purpose_name</th>\n",
       "      <td>Refinancing</td>\n",
       "      <td>Home purchase</td>\n",
       "      <td>Refinancing</td>\n",
       "      <td>Refinancing</td>\n",
       "      <td>Home improvement</td>\n",
       "    </tr>\n",
       "    <tr>\n",
       "      <th>lien_status_name</th>\n",
       "      <td>Secured by a first lien</td>\n",
       "      <td>Secured by a first lien</td>\n",
       "      <td>Secured by a first lien</td>\n",
       "      <td>Secured by a first lien</td>\n",
       "      <td>Secured by a first lien</td>\n",
       "    </tr>\n",
       "    <tr>\n",
       "      <th>hoepa_status_name</th>\n",
       "      <td>Not a HOEPA loan</td>\n",
       "      <td>Not a HOEPA loan</td>\n",
       "      <td>Not a HOEPA loan</td>\n",
       "      <td>Not a HOEPA loan</td>\n",
       "      <td>Not a HOEPA loan</td>\n",
       "    </tr>\n",
       "    <tr>\n",
       "      <th>county_name</th>\n",
       "      <td>Clark County</td>\n",
       "      <td>Walla Walla County</td>\n",
       "      <td>Clark County</td>\n",
       "      <td>Clark County</td>\n",
       "      <td>Kitsap County</td>\n",
       "    </tr>\n",
       "    <tr>\n",
       "      <th>co_applicant_sex_name</th>\n",
       "      <td>Male</td>\n",
       "      <td>No co-applicant</td>\n",
       "      <td>Female</td>\n",
       "      <td>Female</td>\n",
       "      <td>Male</td>\n",
       "    </tr>\n",
       "    <tr>\n",
       "      <th>co_applicant_race_name_1</th>\n",
       "      <td>Information not provided by applicant in mail,...</td>\n",
       "      <td>No co-applicant</td>\n",
       "      <td>White</td>\n",
       "      <td>Information not provided by applicant in mail,...</td>\n",
       "      <td>White</td>\n",
       "    </tr>\n",
       "    <tr>\n",
       "      <th>co_applicant_ethnicity_name</th>\n",
       "      <td>Not Hispanic or Latino</td>\n",
       "      <td>No co-applicant</td>\n",
       "      <td>Not Hispanic or Latino</td>\n",
       "      <td>Information not provided by applicant in mail,...</td>\n",
       "      <td>Not Hispanic or Latino</td>\n",
       "    </tr>\n",
       "    <tr>\n",
       "      <th>as_of_year</th>\n",
       "      <td>2016</td>\n",
       "      <td>2016</td>\n",
       "      <td>2016</td>\n",
       "      <td>2016</td>\n",
       "      <td>2016</td>\n",
       "    </tr>\n",
       "    <tr>\n",
       "      <th>application_date_indicator</th>\n",
       "      <td>0</td>\n",
       "      <td>0</td>\n",
       "      <td>0</td>\n",
       "      <td>0</td>\n",
       "      <td>0</td>\n",
       "    </tr>\n",
       "    <tr>\n",
       "      <th>applicant_sex_name</th>\n",
       "      <td>Female</td>\n",
       "      <td>Male</td>\n",
       "      <td>Male</td>\n",
       "      <td>Male</td>\n",
       "      <td>Female</td>\n",
       "    </tr>\n",
       "    <tr>\n",
       "      <th>applicant_race_name_1</th>\n",
       "      <td>Information not provided by applicant in mail,...</td>\n",
       "      <td>White</td>\n",
       "      <td>White</td>\n",
       "      <td>Information not provided by applicant in mail,...</td>\n",
       "      <td>White</td>\n",
       "    </tr>\n",
       "    <tr>\n",
       "      <th>applicant_ethnicity_name</th>\n",
       "      <td>Not Hispanic or Latino</td>\n",
       "      <td>Hispanic or Latino</td>\n",
       "      <td>Not Hispanic or Latino</td>\n",
       "      <td>Information not provided by applicant in mail,...</td>\n",
       "      <td>Not Hispanic or Latino</td>\n",
       "    </tr>\n",
       "    <tr>\n",
       "      <th>agency_name</th>\n",
       "      <td>Consumer Financial Protection Bureau</td>\n",
       "      <td>Department of Housing and Urban Development</td>\n",
       "      <td>Department of Housing and Urban Development</td>\n",
       "      <td>National Credit Union Administration</td>\n",
       "      <td>Federal Deposit Insurance Corporation</td>\n",
       "    </tr>\n",
       "    <tr>\n",
       "      <th>agency_abbr</th>\n",
       "      <td>CFPB</td>\n",
       "      <td>HUD</td>\n",
       "      <td>HUD</td>\n",
       "      <td>NCUA</td>\n",
       "      <td>FDIC</td>\n",
       "    </tr>\n",
       "    <tr>\n",
       "      <th>action_taken_name</th>\n",
       "      <td>Loan originated</td>\n",
       "      <td>Loan originated</td>\n",
       "      <td>Loan originated</td>\n",
       "      <td>Loan originated</td>\n",
       "      <td>Loan originated</td>\n",
       "    </tr>\n",
       "    <tr>\n",
       "      <th>loan_id</th>\n",
       "      <td>0</td>\n",
       "      <td>1</td>\n",
       "      <td>2</td>\n",
       "      <td>3</td>\n",
       "      <td>4</td>\n",
       "    </tr>\n",
       "  </tbody>\n",
       "</table>\n",
       "</div>"
      ],
      "text/plain": [
       "                                                                                0  \\\n",
       "tract_to_msamd_income                                                      121.69   \n",
       "population                                                                   8381   \n",
       "minority_population                                                         23.79   \n",
       "number_of_owner_occupied_units                                               2175   \n",
       "number_of_1_to_4_family_units                                                2660   \n",
       "loan_amount_000s                                                              227   \n",
       "hud_median_family_income                                                    73300   \n",
       "applicant_income_000s                                                         116   \n",
       "state_name                                                             Washington   \n",
       "state_abbr                                                                     WA   \n",
       "sequence_number                                                            119969   \n",
       "respondent_id                                                              480228   \n",
       "purchaser_type_name                                           Freddie Mac (FHLMC)   \n",
       "property_type_name              One-to-four family dwelling (other than manufa...   \n",
       "preapproval_name                                                   Not applicable   \n",
       "owner_occupancy_name                       Owner-occupied as a principal dwelling   \n",
       "loan_type_name                                                       Conventional   \n",
       "loan_purpose_name                                                     Refinancing   \n",
       "lien_status_name                                          Secured by a first lien   \n",
       "hoepa_status_name                                                Not a HOEPA loan   \n",
       "county_name                                                          Clark County   \n",
       "co_applicant_sex_name                                                        Male   \n",
       "co_applicant_race_name_1        Information not provided by applicant in mail,...   \n",
       "co_applicant_ethnicity_name                                Not Hispanic or Latino   \n",
       "as_of_year                                                                   2016   \n",
       "application_date_indicator                                                      0   \n",
       "applicant_sex_name                                                         Female   \n",
       "applicant_race_name_1           Information not provided by applicant in mail,...   \n",
       "applicant_ethnicity_name                                   Not Hispanic or Latino   \n",
       "agency_name                                  Consumer Financial Protection Bureau   \n",
       "agency_abbr                                                                  CFPB   \n",
       "action_taken_name                                                 Loan originated   \n",
       "loan_id                                                                         0   \n",
       "\n",
       "                                                                                1  \\\n",
       "tract_to_msamd_income                                                       83.37   \n",
       "population                                                                   4915   \n",
       "minority_population                                                         23.99   \n",
       "number_of_owner_occupied_units                                               1268   \n",
       "number_of_1_to_4_family_units                                                1777   \n",
       "loan_amount_000s                                                              240   \n",
       "hud_median_family_income                                                    57900   \n",
       "applicant_income_000s                                                          42   \n",
       "state_name                                                             Washington   \n",
       "state_abbr                                                                     WA   \n",
       "sequence_number                                                             52605   \n",
       "respondent_id                                                          7257500009   \n",
       "purchaser_type_name             Life insurance company, credit union, mortgage...   \n",
       "property_type_name              One-to-four family dwelling (other than manufa...   \n",
       "preapproval_name                                                   Not applicable   \n",
       "owner_occupancy_name                       Owner-occupied as a principal dwelling   \n",
       "loan_type_name                                                        FHA-insured   \n",
       "loan_purpose_name                                                   Home purchase   \n",
       "lien_status_name                                          Secured by a first lien   \n",
       "hoepa_status_name                                                Not a HOEPA loan   \n",
       "county_name                                                    Walla Walla County   \n",
       "co_applicant_sex_name                                             No co-applicant   \n",
       "co_applicant_race_name_1                                          No co-applicant   \n",
       "co_applicant_ethnicity_name                                       No co-applicant   \n",
       "as_of_year                                                                   2016   \n",
       "application_date_indicator                                                      0   \n",
       "applicant_sex_name                                                           Male   \n",
       "applicant_race_name_1                                                       White   \n",
       "applicant_ethnicity_name                                       Hispanic or Latino   \n",
       "agency_name                           Department of Housing and Urban Development   \n",
       "agency_abbr                                                                   HUD   \n",
       "action_taken_name                                                 Loan originated   \n",
       "loan_id                                                                         1   \n",
       "\n",
       "                                                                                2  \\\n",
       "tract_to_msamd_income                                                       91.13   \n",
       "population                                                                   5075   \n",
       "minority_population                                                         11.82   \n",
       "number_of_owner_occupied_units                                               1136   \n",
       "number_of_1_to_4_family_units                                                1838   \n",
       "loan_amount_000s                                                              241   \n",
       "hud_median_family_income                                                    73300   \n",
       "applicant_income_000s                                                         117   \n",
       "state_name                                                             Washington   \n",
       "state_abbr                                                                     WA   \n",
       "sequence_number                                                              6210   \n",
       "respondent_id                                                          72-1545376   \n",
       "purchaser_type_name             Loan was not originated or was not sold in cal...   \n",
       "property_type_name              One-to-four family dwelling (other than manufa...   \n",
       "preapproval_name                                                   Not applicable   \n",
       "owner_occupancy_name                       Owner-occupied as a principal dwelling   \n",
       "loan_type_name                                                       Conventional   \n",
       "loan_purpose_name                                                     Refinancing   \n",
       "lien_status_name                                          Secured by a first lien   \n",
       "hoepa_status_name                                                Not a HOEPA loan   \n",
       "county_name                                                          Clark County   \n",
       "co_applicant_sex_name                                                      Female   \n",
       "co_applicant_race_name_1                                                    White   \n",
       "co_applicant_ethnicity_name                                Not Hispanic or Latino   \n",
       "as_of_year                                                                   2016   \n",
       "application_date_indicator                                                      0   \n",
       "applicant_sex_name                                                           Male   \n",
       "applicant_race_name_1                                                       White   \n",
       "applicant_ethnicity_name                                   Not Hispanic or Latino   \n",
       "agency_name                           Department of Housing and Urban Development   \n",
       "agency_abbr                                                                   HUD   \n",
       "action_taken_name                                                 Loan originated   \n",
       "loan_id                                                                         2   \n",
       "\n",
       "                                                                                3  \\\n",
       "tract_to_msamd_income                                                      146.17   \n",
       "population                                                                   5032   \n",
       "minority_population                                                          8.59   \n",
       "number_of_owner_occupied_units                                               1525   \n",
       "number_of_1_to_4_family_units                                                1820   \n",
       "loan_amount_000s                                                              351   \n",
       "hud_median_family_income                                                    73300   \n",
       "applicant_income_000s                                                         315   \n",
       "state_name                                                             Washington   \n",
       "state_abbr                                                                     WA   \n",
       "sequence_number                                                               197   \n",
       "respondent_id                                                                4878   \n",
       "purchaser_type_name             Loan was not originated or was not sold in cal...   \n",
       "property_type_name              One-to-four family dwelling (other than manufa...   \n",
       "preapproval_name                                                   Not applicable   \n",
       "owner_occupancy_name                       Owner-occupied as a principal dwelling   \n",
       "loan_type_name                                                       Conventional   \n",
       "loan_purpose_name                                                     Refinancing   \n",
       "lien_status_name                                          Secured by a first lien   \n",
       "hoepa_status_name                                                Not a HOEPA loan   \n",
       "county_name                                                          Clark County   \n",
       "co_applicant_sex_name                                                      Female   \n",
       "co_applicant_race_name_1        Information not provided by applicant in mail,...   \n",
       "co_applicant_ethnicity_name     Information not provided by applicant in mail,...   \n",
       "as_of_year                                                                   2016   \n",
       "application_date_indicator                                                      0   \n",
       "applicant_sex_name                                                           Male   \n",
       "applicant_race_name_1           Information not provided by applicant in mail,...   \n",
       "applicant_ethnicity_name        Information not provided by applicant in mail,...   \n",
       "agency_name                                  National Credit Union Administration   \n",
       "agency_abbr                                                                  NCUA   \n",
       "action_taken_name                                                 Loan originated   \n",
       "loan_id                                                                         3   \n",
       "\n",
       "                                                                                4  \n",
       "tract_to_msamd_income                                                      162.47  \n",
       "population                                                                   5183  \n",
       "minority_population                                                          10.5  \n",
       "number_of_owner_occupied_units                                               1705  \n",
       "number_of_1_to_4_family_units                                                2104  \n",
       "loan_amount_000s                                                              417  \n",
       "hud_median_family_income                                                    78100  \n",
       "applicant_income_000s                                                         114  \n",
       "state_name                                                             Washington  \n",
       "state_abbr                                                                     WA  \n",
       "sequence_number                                                             32582  \n",
       "respondent_id                                                               32489  \n",
       "purchaser_type_name                                           Freddie Mac (FHLMC)  \n",
       "property_type_name              One-to-four family dwelling (other than manufa...  \n",
       "preapproval_name                                                   Not applicable  \n",
       "owner_occupancy_name                       Owner-occupied as a principal dwelling  \n",
       "loan_type_name                                                       Conventional  \n",
       "loan_purpose_name                                                Home improvement  \n",
       "lien_status_name                                          Secured by a first lien  \n",
       "hoepa_status_name                                                Not a HOEPA loan  \n",
       "county_name                                                         Kitsap County  \n",
       "co_applicant_sex_name                                                        Male  \n",
       "co_applicant_race_name_1                                                    White  \n",
       "co_applicant_ethnicity_name                                Not Hispanic or Latino  \n",
       "as_of_year                                                                   2016  \n",
       "application_date_indicator                                                      0  \n",
       "applicant_sex_name                                                         Female  \n",
       "applicant_race_name_1                                                       White  \n",
       "applicant_ethnicity_name                                   Not Hispanic or Latino  \n",
       "agency_name                                 Federal Deposit Insurance Corporation  \n",
       "agency_abbr                                                                  FDIC  \n",
       "action_taken_name                                                 Loan originated  \n",
       "loan_id                                                                         4  "
      ]
     },
     "execution_count": 27,
     "metadata": {},
     "output_type": "execute_result"
    }
   ],
   "source": [
    "df2.head().transpose()"
   ]
  },
  {
   "cell_type": "markdown",
   "metadata": {},
   "source": [
    "Take only loans with *application_date_indicator* not equal to 2 (meaning \"date not available')"
   ]
  },
  {
   "cell_type": "code",
   "execution_count": 30,
   "metadata": {},
   "outputs": [],
   "source": [
    "df3 = df2[df2['application_date_indicator']!= 2]"
   ]
  },
  {
   "cell_type": "code",
   "execution_count": 31,
   "metadata": {},
   "outputs": [
    {
     "data": {
      "text/plain": [
       "(417606, 33)"
      ]
     },
     "execution_count": 31,
     "metadata": {},
     "output_type": "execute_result"
    }
   ],
   "source": [
    "df3.shape"
   ]
  },
  {
   "cell_type": "markdown",
   "metadata": {},
   "source": [
    "Export final sets."
   ]
  },
  {
   "cell_type": "code",
   "execution_count": 32,
   "metadata": {},
   "outputs": [],
   "source": [
    "df3.to_csv('WA Home Loan Cleaned.csv',index = False)"
   ]
  },
  {
   "cell_type": "code",
   "execution_count": null,
   "metadata": {},
   "outputs": [],
   "source": [
    "df3['']"
   ]
  }
 ],
 "metadata": {
  "kernelspec": {
   "display_name": "Python 3",
   "language": "python",
   "name": "python3"
  },
  "language_info": {
   "codemirror_mode": {
    "name": "ipython",
    "version": 3
   },
   "file_extension": ".py",
   "mimetype": "text/x-python",
   "name": "python",
   "nbconvert_exporter": "python",
   "pygments_lexer": "ipython3",
   "version": "3.7.3"
  },
  "toc": {
   "base_numbering": 1,
   "nav_menu": {},
   "number_sections": true,
   "sideBar": true,
   "skip_h1_title": false,
   "title_cell": "Table of Contents",
   "title_sidebar": "Contents",
   "toc_cell": false,
   "toc_position": {},
   "toc_section_display": true,
   "toc_window_display": false
  }
 },
 "nbformat": 4,
 "nbformat_minor": 2
}
