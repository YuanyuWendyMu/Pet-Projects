{
 "cells": [
  {
   "cell_type": "code",
   "execution_count": 3,
   "metadata": {},
   "outputs": [],
   "source": [
    "import pandas as pd"
   ]
  },
  {
   "cell_type": "markdown",
   "metadata": {},
   "source": [
    "## Merge 10 year data"
   ]
  },
  {
   "cell_type": "code",
   "execution_count": 209,
   "metadata": {},
   "outputs": [
    {
     "ename": "MemoryError",
     "evalue": "",
     "output_type": "error",
     "traceback": [
      "\u001b[1;31m---------------------------------------------------------------------------\u001b[0m",
      "\u001b[1;31mKeyError\u001b[0m                                  Traceback (most recent call last)",
      "\u001b[1;32m~\\AppData\\Local\\Continuum\\anaconda3\\lib\\site-packages\\pandas\\core\\indexes\\base.py\u001b[0m in \u001b[0;36mget_loc\u001b[1;34m(self, key, method, tolerance)\u001b[0m\n\u001b[0;32m   3077\u001b[0m             \u001b[1;32mtry\u001b[0m\u001b[1;33m:\u001b[0m\u001b[1;33m\u001b[0m\u001b[1;33m\u001b[0m\u001b[0m\n\u001b[1;32m-> 3078\u001b[1;33m                 \u001b[1;32mreturn\u001b[0m \u001b[0mself\u001b[0m\u001b[1;33m.\u001b[0m\u001b[0m_engine\u001b[0m\u001b[1;33m.\u001b[0m\u001b[0mget_loc\u001b[0m\u001b[1;33m(\u001b[0m\u001b[0mkey\u001b[0m\u001b[1;33m)\u001b[0m\u001b[1;33m\u001b[0m\u001b[1;33m\u001b[0m\u001b[0m\n\u001b[0m\u001b[0;32m   3079\u001b[0m             \u001b[1;32mexcept\u001b[0m \u001b[0mKeyError\u001b[0m\u001b[1;33m:\u001b[0m\u001b[1;33m\u001b[0m\u001b[1;33m\u001b[0m\u001b[0m\n",
      "\u001b[1;32mpandas\\_libs\\index.pyx\u001b[0m in \u001b[0;36mpandas._libs.index.IndexEngine.get_loc\u001b[1;34m()\u001b[0m\n",
      "\u001b[1;32mpandas\\_libs\\index.pyx\u001b[0m in \u001b[0;36mpandas._libs.index.IndexEngine.get_loc\u001b[1;34m()\u001b[0m\n",
      "\u001b[1;32mpandas\\_libs\\hashtable_class_helper.pxi\u001b[0m in \u001b[0;36mpandas._libs.hashtable.PyObjectHashTable.get_item\u001b[1;34m()\u001b[0m\n",
      "\u001b[1;32mpandas\\_libs\\hashtable_class_helper.pxi\u001b[0m in \u001b[0;36mpandas._libs.hashtable.PyObjectHashTable.get_item\u001b[1;34m()\u001b[0m\n",
      "\u001b[1;31mKeyError\u001b[0m: 'MARIJANA'",
      "\nDuring handling of the above exception, another exception occurred:\n",
      "\u001b[1;31mKeyError\u001b[0m                                  Traceback (most recent call last)",
      "\u001b[1;32m~\\AppData\\Local\\Continuum\\anaconda3\\lib\\site-packages\\pandas\\core\\internals.py\u001b[0m in \u001b[0;36mset\u001b[1;34m(self, item, value, check)\u001b[0m\n\u001b[0;32m   4242\u001b[0m         \u001b[1;32mtry\u001b[0m\u001b[1;33m:\u001b[0m\u001b[1;33m\u001b[0m\u001b[1;33m\u001b[0m\u001b[0m\n\u001b[1;32m-> 4243\u001b[1;33m             \u001b[0mloc\u001b[0m \u001b[1;33m=\u001b[0m \u001b[0mself\u001b[0m\u001b[1;33m.\u001b[0m\u001b[0mitems\u001b[0m\u001b[1;33m.\u001b[0m\u001b[0mget_loc\u001b[0m\u001b[1;33m(\u001b[0m\u001b[0mitem\u001b[0m\u001b[1;33m)\u001b[0m\u001b[1;33m\u001b[0m\u001b[1;33m\u001b[0m\u001b[0m\n\u001b[0m\u001b[0;32m   4244\u001b[0m         \u001b[1;32mexcept\u001b[0m \u001b[0mKeyError\u001b[0m\u001b[1;33m:\u001b[0m\u001b[1;33m\u001b[0m\u001b[1;33m\u001b[0m\u001b[0m\n",
      "\u001b[1;32m~\\AppData\\Local\\Continuum\\anaconda3\\lib\\site-packages\\pandas\\core\\indexes\\base.py\u001b[0m in \u001b[0;36mget_loc\u001b[1;34m(self, key, method, tolerance)\u001b[0m\n\u001b[0;32m   3079\u001b[0m             \u001b[1;32mexcept\u001b[0m \u001b[0mKeyError\u001b[0m\u001b[1;33m:\u001b[0m\u001b[1;33m\u001b[0m\u001b[1;33m\u001b[0m\u001b[0m\n\u001b[1;32m-> 3080\u001b[1;33m                 \u001b[1;32mreturn\u001b[0m \u001b[0mself\u001b[0m\u001b[1;33m.\u001b[0m\u001b[0m_engine\u001b[0m\u001b[1;33m.\u001b[0m\u001b[0mget_loc\u001b[0m\u001b[1;33m(\u001b[0m\u001b[0mself\u001b[0m\u001b[1;33m.\u001b[0m\u001b[0m_maybe_cast_indexer\u001b[0m\u001b[1;33m(\u001b[0m\u001b[0mkey\u001b[0m\u001b[1;33m)\u001b[0m\u001b[1;33m)\u001b[0m\u001b[1;33m\u001b[0m\u001b[1;33m\u001b[0m\u001b[0m\n\u001b[0m\u001b[0;32m   3081\u001b[0m \u001b[1;33m\u001b[0m\u001b[0m\n",
      "\u001b[1;32mpandas\\_libs\\index.pyx\u001b[0m in \u001b[0;36mpandas._libs.index.IndexEngine.get_loc\u001b[1;34m()\u001b[0m\n",
      "\u001b[1;32mpandas\\_libs\\index.pyx\u001b[0m in \u001b[0;36mpandas._libs.index.IndexEngine.get_loc\u001b[1;34m()\u001b[0m\n",
      "\u001b[1;32mpandas\\_libs\\hashtable_class_helper.pxi\u001b[0m in \u001b[0;36mpandas._libs.hashtable.PyObjectHashTable.get_item\u001b[1;34m()\u001b[0m\n",
      "\u001b[1;32mpandas\\_libs\\hashtable_class_helper.pxi\u001b[0m in \u001b[0;36mpandas._libs.hashtable.PyObjectHashTable.get_item\u001b[1;34m()\u001b[0m\n",
      "\u001b[1;31mKeyError\u001b[0m: 'MARIJANA'",
      "\nDuring handling of the above exception, another exception occurred:\n",
      "\u001b[1;31mMemoryError\u001b[0m                               Traceback (most recent call last)",
      "\u001b[1;32m<ipython-input-209-5dd3ad1fb71b>\u001b[0m in \u001b[0;36m<module>\u001b[1;34m\u001b[0m\n\u001b[1;32m----> 1\u001b[1;33m \u001b[0mdf2017\u001b[0m \u001b[1;33m=\u001b[0m \u001b[0mpd\u001b[0m\u001b[1;33m.\u001b[0m\u001b[0mread_sas\u001b[0m\u001b[1;33m(\u001b[0m\u001b[1;34m'LLCP2017.XPT'\u001b[0m\u001b[1;33m)\u001b[0m\u001b[1;33m\u001b[0m\u001b[1;33m\u001b[0m\u001b[0m\n\u001b[0m",
      "\u001b[1;32m~\\AppData\\Local\\Continuum\\anaconda3\\lib\\site-packages\\pandas\\io\\sas\\sasreader.py\u001b[0m in \u001b[0;36mread_sas\u001b[1;34m(filepath_or_buffer, format, index, encoding, chunksize, iterator)\u001b[0m\n\u001b[0;32m     66\u001b[0m         \u001b[1;32mreturn\u001b[0m \u001b[0mreader\u001b[0m\u001b[1;33m\u001b[0m\u001b[1;33m\u001b[0m\u001b[0m\n\u001b[0;32m     67\u001b[0m \u001b[1;33m\u001b[0m\u001b[0m\n\u001b[1;32m---> 68\u001b[1;33m     \u001b[0mdata\u001b[0m \u001b[1;33m=\u001b[0m \u001b[0mreader\u001b[0m\u001b[1;33m.\u001b[0m\u001b[0mread\u001b[0m\u001b[1;33m(\u001b[0m\u001b[1;33m)\u001b[0m\u001b[1;33m\u001b[0m\u001b[1;33m\u001b[0m\u001b[0m\n\u001b[0m\u001b[0;32m     69\u001b[0m     \u001b[0mreader\u001b[0m\u001b[1;33m.\u001b[0m\u001b[0mclose\u001b[0m\u001b[1;33m(\u001b[0m\u001b[1;33m)\u001b[0m\u001b[1;33m\u001b[0m\u001b[1;33m\u001b[0m\u001b[0m\n\u001b[0;32m     70\u001b[0m     \u001b[1;32mreturn\u001b[0m \u001b[0mdata\u001b[0m\u001b[1;33m\u001b[0m\u001b[1;33m\u001b[0m\u001b[0m\n",
      "\u001b[1;32m~\\AppData\\Local\\Continuum\\anaconda3\\lib\\site-packages\\pandas\\io\\sas\\sas_xport.py\u001b[0m in \u001b[0;36mread\u001b[1;34m(self, nrows)\u001b[0m\n\u001b[0;32m    454\u001b[0m                     \u001b[1;32mif\u001b[0m \u001b[0mself\u001b[0m\u001b[1;33m.\u001b[0m\u001b[0m_encoding\u001b[0m \u001b[1;32mis\u001b[0m \u001b[1;32mnot\u001b[0m \u001b[1;32mNone\u001b[0m\u001b[1;33m:\u001b[0m\u001b[1;33m\u001b[0m\u001b[1;33m\u001b[0m\u001b[0m\n\u001b[0;32m    455\u001b[0m                         \u001b[0mv\u001b[0m \u001b[1;33m=\u001b[0m \u001b[1;33m[\u001b[0m\u001b[0my\u001b[0m\u001b[1;33m.\u001b[0m\u001b[0mdecode\u001b[0m\u001b[1;33m(\u001b[0m\u001b[0mself\u001b[0m\u001b[1;33m.\u001b[0m\u001b[0m_encoding\u001b[0m\u001b[1;33m)\u001b[0m \u001b[1;32mfor\u001b[0m \u001b[0my\u001b[0m \u001b[1;32min\u001b[0m \u001b[0mv\u001b[0m\u001b[1;33m]\u001b[0m\u001b[1;33m\u001b[0m\u001b[1;33m\u001b[0m\u001b[0m\n\u001b[1;32m--> 456\u001b[1;33m             \u001b[0mdf\u001b[0m\u001b[1;33m[\u001b[0m\u001b[0mx\u001b[0m\u001b[1;33m]\u001b[0m \u001b[1;33m=\u001b[0m \u001b[0mv\u001b[0m\u001b[1;33m\u001b[0m\u001b[1;33m\u001b[0m\u001b[0m\n\u001b[0m\u001b[0;32m    457\u001b[0m \u001b[1;33m\u001b[0m\u001b[0m\n\u001b[0;32m    458\u001b[0m         \u001b[1;32mif\u001b[0m \u001b[0mself\u001b[0m\u001b[1;33m.\u001b[0m\u001b[0m_index\u001b[0m \u001b[1;32mis\u001b[0m \u001b[1;32mNone\u001b[0m\u001b[1;33m:\u001b[0m\u001b[1;33m\u001b[0m\u001b[1;33m\u001b[0m\u001b[0m\n",
      "\u001b[1;32m~\\AppData\\Local\\Continuum\\anaconda3\\lib\\site-packages\\pandas\\core\\frame.py\u001b[0m in \u001b[0;36m__setitem__\u001b[1;34m(self, key, value)\u001b[0m\n\u001b[0;32m   3117\u001b[0m         \u001b[1;32melse\u001b[0m\u001b[1;33m:\u001b[0m\u001b[1;33m\u001b[0m\u001b[1;33m\u001b[0m\u001b[0m\n\u001b[0;32m   3118\u001b[0m             \u001b[1;31m# set column\u001b[0m\u001b[1;33m\u001b[0m\u001b[1;33m\u001b[0m\u001b[1;33m\u001b[0m\u001b[0m\n\u001b[1;32m-> 3119\u001b[1;33m             \u001b[0mself\u001b[0m\u001b[1;33m.\u001b[0m\u001b[0m_set_item\u001b[0m\u001b[1;33m(\u001b[0m\u001b[0mkey\u001b[0m\u001b[1;33m,\u001b[0m \u001b[0mvalue\u001b[0m\u001b[1;33m)\u001b[0m\u001b[1;33m\u001b[0m\u001b[1;33m\u001b[0m\u001b[0m\n\u001b[0m\u001b[0;32m   3120\u001b[0m \u001b[1;33m\u001b[0m\u001b[0m\n\u001b[0;32m   3121\u001b[0m     \u001b[1;32mdef\u001b[0m \u001b[0m_setitem_slice\u001b[0m\u001b[1;33m(\u001b[0m\u001b[0mself\u001b[0m\u001b[1;33m,\u001b[0m \u001b[0mkey\u001b[0m\u001b[1;33m,\u001b[0m \u001b[0mvalue\u001b[0m\u001b[1;33m)\u001b[0m\u001b[1;33m:\u001b[0m\u001b[1;33m\u001b[0m\u001b[1;33m\u001b[0m\u001b[0m\n",
      "\u001b[1;32m~\\AppData\\Local\\Continuum\\anaconda3\\lib\\site-packages\\pandas\\core\\frame.py\u001b[0m in \u001b[0;36m_set_item\u001b[1;34m(self, key, value)\u001b[0m\n\u001b[0;32m   3193\u001b[0m         \u001b[0mself\u001b[0m\u001b[1;33m.\u001b[0m\u001b[0m_ensure_valid_index\u001b[0m\u001b[1;33m(\u001b[0m\u001b[0mvalue\u001b[0m\u001b[1;33m)\u001b[0m\u001b[1;33m\u001b[0m\u001b[1;33m\u001b[0m\u001b[0m\n\u001b[0;32m   3194\u001b[0m         \u001b[0mvalue\u001b[0m \u001b[1;33m=\u001b[0m \u001b[0mself\u001b[0m\u001b[1;33m.\u001b[0m\u001b[0m_sanitize_column\u001b[0m\u001b[1;33m(\u001b[0m\u001b[0mkey\u001b[0m\u001b[1;33m,\u001b[0m \u001b[0mvalue\u001b[0m\u001b[1;33m)\u001b[0m\u001b[1;33m\u001b[0m\u001b[1;33m\u001b[0m\u001b[0m\n\u001b[1;32m-> 3195\u001b[1;33m         \u001b[0mNDFrame\u001b[0m\u001b[1;33m.\u001b[0m\u001b[0m_set_item\u001b[0m\u001b[1;33m(\u001b[0m\u001b[0mself\u001b[0m\u001b[1;33m,\u001b[0m \u001b[0mkey\u001b[0m\u001b[1;33m,\u001b[0m \u001b[0mvalue\u001b[0m\u001b[1;33m)\u001b[0m\u001b[1;33m\u001b[0m\u001b[1;33m\u001b[0m\u001b[0m\n\u001b[0m\u001b[0;32m   3196\u001b[0m \u001b[1;33m\u001b[0m\u001b[0m\n\u001b[0;32m   3197\u001b[0m         \u001b[1;31m# check if we are modifying a copy\u001b[0m\u001b[1;33m\u001b[0m\u001b[1;33m\u001b[0m\u001b[1;33m\u001b[0m\u001b[0m\n",
      "\u001b[1;32m~\\AppData\\Local\\Continuum\\anaconda3\\lib\\site-packages\\pandas\\core\\generic.py\u001b[0m in \u001b[0;36m_set_item\u001b[1;34m(self, key, value)\u001b[0m\n\u001b[0;32m   2598\u001b[0m \u001b[1;33m\u001b[0m\u001b[0m\n\u001b[0;32m   2599\u001b[0m     \u001b[1;32mdef\u001b[0m \u001b[0m_set_item\u001b[0m\u001b[1;33m(\u001b[0m\u001b[0mself\u001b[0m\u001b[1;33m,\u001b[0m \u001b[0mkey\u001b[0m\u001b[1;33m,\u001b[0m \u001b[0mvalue\u001b[0m\u001b[1;33m)\u001b[0m\u001b[1;33m:\u001b[0m\u001b[1;33m\u001b[0m\u001b[1;33m\u001b[0m\u001b[0m\n\u001b[1;32m-> 2600\u001b[1;33m         \u001b[0mself\u001b[0m\u001b[1;33m.\u001b[0m\u001b[0m_data\u001b[0m\u001b[1;33m.\u001b[0m\u001b[0mset\u001b[0m\u001b[1;33m(\u001b[0m\u001b[0mkey\u001b[0m\u001b[1;33m,\u001b[0m \u001b[0mvalue\u001b[0m\u001b[1;33m)\u001b[0m\u001b[1;33m\u001b[0m\u001b[1;33m\u001b[0m\u001b[0m\n\u001b[0m\u001b[0;32m   2601\u001b[0m         \u001b[0mself\u001b[0m\u001b[1;33m.\u001b[0m\u001b[0m_clear_item_cache\u001b[0m\u001b[1;33m(\u001b[0m\u001b[1;33m)\u001b[0m\u001b[1;33m\u001b[0m\u001b[1;33m\u001b[0m\u001b[0m\n\u001b[0;32m   2602\u001b[0m \u001b[1;33m\u001b[0m\u001b[0m\n",
      "\u001b[1;32m~\\AppData\\Local\\Continuum\\anaconda3\\lib\\site-packages\\pandas\\core\\internals.py\u001b[0m in \u001b[0;36mset\u001b[1;34m(self, item, value, check)\u001b[0m\n\u001b[0;32m   4244\u001b[0m         \u001b[1;32mexcept\u001b[0m \u001b[0mKeyError\u001b[0m\u001b[1;33m:\u001b[0m\u001b[1;33m\u001b[0m\u001b[1;33m\u001b[0m\u001b[0m\n\u001b[0;32m   4245\u001b[0m             \u001b[1;31m# This item wasn't present, just insert at end\u001b[0m\u001b[1;33m\u001b[0m\u001b[1;33m\u001b[0m\u001b[1;33m\u001b[0m\u001b[0m\n\u001b[1;32m-> 4246\u001b[1;33m             \u001b[0mself\u001b[0m\u001b[1;33m.\u001b[0m\u001b[0minsert\u001b[0m\u001b[1;33m(\u001b[0m\u001b[0mlen\u001b[0m\u001b[1;33m(\u001b[0m\u001b[0mself\u001b[0m\u001b[1;33m.\u001b[0m\u001b[0mitems\u001b[0m\u001b[1;33m)\u001b[0m\u001b[1;33m,\u001b[0m \u001b[0mitem\u001b[0m\u001b[1;33m,\u001b[0m \u001b[0mvalue\u001b[0m\u001b[1;33m)\u001b[0m\u001b[1;33m\u001b[0m\u001b[1;33m\u001b[0m\u001b[0m\n\u001b[0m\u001b[0;32m   4247\u001b[0m             \u001b[1;32mreturn\u001b[0m\u001b[1;33m\u001b[0m\u001b[1;33m\u001b[0m\u001b[0m\n\u001b[0;32m   4248\u001b[0m \u001b[1;33m\u001b[0m\u001b[0m\n",
      "\u001b[1;32m~\\AppData\\Local\\Continuum\\anaconda3\\lib\\site-packages\\pandas\\core\\internals.py\u001b[0m in \u001b[0;36minsert\u001b[1;34m(self, loc, item, value, allow_duplicates)\u001b[0m\n\u001b[0;32m   4372\u001b[0m \u001b[1;33m\u001b[0m\u001b[0m\n\u001b[0;32m   4373\u001b[0m         \u001b[1;32mif\u001b[0m \u001b[0mlen\u001b[0m\u001b[1;33m(\u001b[0m\u001b[0mself\u001b[0m\u001b[1;33m.\u001b[0m\u001b[0mblocks\u001b[0m\u001b[1;33m)\u001b[0m \u001b[1;33m>\u001b[0m \u001b[1;36m100\u001b[0m\u001b[1;33m:\u001b[0m\u001b[1;33m\u001b[0m\u001b[1;33m\u001b[0m\u001b[0m\n\u001b[1;32m-> 4374\u001b[1;33m             \u001b[0mself\u001b[0m\u001b[1;33m.\u001b[0m\u001b[0m_consolidate_inplace\u001b[0m\u001b[1;33m(\u001b[0m\u001b[1;33m)\u001b[0m\u001b[1;33m\u001b[0m\u001b[1;33m\u001b[0m\u001b[0m\n\u001b[0m\u001b[0;32m   4375\u001b[0m \u001b[1;33m\u001b[0m\u001b[0m\n\u001b[0;32m   4376\u001b[0m     def reindex_axis(self, new_index, axis, method=None, limit=None,\n",
      "\u001b[1;32m~\\AppData\\Local\\Continuum\\anaconda3\\lib\\site-packages\\pandas\\core\\internals.py\u001b[0m in \u001b[0;36m_consolidate_inplace\u001b[1;34m(self)\u001b[0m\n\u001b[0;32m   4101\u001b[0m     \u001b[1;32mdef\u001b[0m \u001b[0m_consolidate_inplace\u001b[0m\u001b[1;33m(\u001b[0m\u001b[0mself\u001b[0m\u001b[1;33m)\u001b[0m\u001b[1;33m:\u001b[0m\u001b[1;33m\u001b[0m\u001b[1;33m\u001b[0m\u001b[0m\n\u001b[0;32m   4102\u001b[0m         \u001b[1;32mif\u001b[0m \u001b[1;32mnot\u001b[0m \u001b[0mself\u001b[0m\u001b[1;33m.\u001b[0m\u001b[0mis_consolidated\u001b[0m\u001b[1;33m(\u001b[0m\u001b[1;33m)\u001b[0m\u001b[1;33m:\u001b[0m\u001b[1;33m\u001b[0m\u001b[1;33m\u001b[0m\u001b[0m\n\u001b[1;32m-> 4103\u001b[1;33m             \u001b[0mself\u001b[0m\u001b[1;33m.\u001b[0m\u001b[0mblocks\u001b[0m \u001b[1;33m=\u001b[0m \u001b[0mtuple\u001b[0m\u001b[1;33m(\u001b[0m\u001b[0m_consolidate\u001b[0m\u001b[1;33m(\u001b[0m\u001b[0mself\u001b[0m\u001b[1;33m.\u001b[0m\u001b[0mblocks\u001b[0m\u001b[1;33m)\u001b[0m\u001b[1;33m)\u001b[0m\u001b[1;33m\u001b[0m\u001b[1;33m\u001b[0m\u001b[0m\n\u001b[0m\u001b[0;32m   4104\u001b[0m             \u001b[0mself\u001b[0m\u001b[1;33m.\u001b[0m\u001b[0m_is_consolidated\u001b[0m \u001b[1;33m=\u001b[0m \u001b[1;32mTrue\u001b[0m\u001b[1;33m\u001b[0m\u001b[1;33m\u001b[0m\u001b[0m\n\u001b[0;32m   4105\u001b[0m             \u001b[0mself\u001b[0m\u001b[1;33m.\u001b[0m\u001b[0m_known_consolidated\u001b[0m \u001b[1;33m=\u001b[0m \u001b[1;32mTrue\u001b[0m\u001b[1;33m\u001b[0m\u001b[1;33m\u001b[0m\u001b[0m\n",
      "\u001b[1;32m~\\AppData\\Local\\Continuum\\anaconda3\\lib\\site-packages\\pandas\\core\\internals.py\u001b[0m in \u001b[0;36m_consolidate\u001b[1;34m(blocks)\u001b[0m\n\u001b[0;32m   5067\u001b[0m     \u001b[1;32mfor\u001b[0m \u001b[1;33m(\u001b[0m\u001b[0m_can_consolidate\u001b[0m\u001b[1;33m,\u001b[0m \u001b[0mdtype\u001b[0m\u001b[1;33m)\u001b[0m\u001b[1;33m,\u001b[0m \u001b[0mgroup_blocks\u001b[0m \u001b[1;32min\u001b[0m \u001b[0mgrouper\u001b[0m\u001b[1;33m:\u001b[0m\u001b[1;33m\u001b[0m\u001b[1;33m\u001b[0m\u001b[0m\n\u001b[0;32m   5068\u001b[0m         merged_blocks = _merge_blocks(list(group_blocks), dtype=dtype,\n\u001b[1;32m-> 5069\u001b[1;33m                                       _can_consolidate=_can_consolidate)\n\u001b[0m\u001b[0;32m   5070\u001b[0m         \u001b[0mnew_blocks\u001b[0m \u001b[1;33m=\u001b[0m \u001b[0m_extend_blocks\u001b[0m\u001b[1;33m(\u001b[0m\u001b[0mmerged_blocks\u001b[0m\u001b[1;33m,\u001b[0m \u001b[0mnew_blocks\u001b[0m\u001b[1;33m)\u001b[0m\u001b[1;33m\u001b[0m\u001b[1;33m\u001b[0m\u001b[0m\n\u001b[0;32m   5071\u001b[0m     \u001b[1;32mreturn\u001b[0m \u001b[0mnew_blocks\u001b[0m\u001b[1;33m\u001b[0m\u001b[1;33m\u001b[0m\u001b[0m\n",
      "\u001b[1;32m~\\AppData\\Local\\Continuum\\anaconda3\\lib\\site-packages\\pandas\\core\\internals.py\u001b[0m in \u001b[0;36m_merge_blocks\u001b[1;34m(blocks, dtype, _can_consolidate)\u001b[0m\n\u001b[0;32m   5087\u001b[0m         \u001b[1;31m# combination of those slices is a slice, too.\u001b[0m\u001b[1;33m\u001b[0m\u001b[1;33m\u001b[0m\u001b[1;33m\u001b[0m\u001b[0m\n\u001b[0;32m   5088\u001b[0m         \u001b[0mnew_mgr_locs\u001b[0m \u001b[1;33m=\u001b[0m \u001b[0mnp\u001b[0m\u001b[1;33m.\u001b[0m\u001b[0mconcatenate\u001b[0m\u001b[1;33m(\u001b[0m\u001b[1;33m[\u001b[0m\u001b[0mb\u001b[0m\u001b[1;33m.\u001b[0m\u001b[0mmgr_locs\u001b[0m\u001b[1;33m.\u001b[0m\u001b[0mas_array\u001b[0m \u001b[1;32mfor\u001b[0m \u001b[0mb\u001b[0m \u001b[1;32min\u001b[0m \u001b[0mblocks\u001b[0m\u001b[1;33m]\u001b[0m\u001b[1;33m)\u001b[0m\u001b[1;33m\u001b[0m\u001b[1;33m\u001b[0m\u001b[0m\n\u001b[1;32m-> 5089\u001b[1;33m         \u001b[0mnew_values\u001b[0m \u001b[1;33m=\u001b[0m \u001b[0m_vstack\u001b[0m\u001b[1;33m(\u001b[0m\u001b[1;33m[\u001b[0m\u001b[0mb\u001b[0m\u001b[1;33m.\u001b[0m\u001b[0mvalues\u001b[0m \u001b[1;32mfor\u001b[0m \u001b[0mb\u001b[0m \u001b[1;32min\u001b[0m \u001b[0mblocks\u001b[0m\u001b[1;33m]\u001b[0m\u001b[1;33m,\u001b[0m \u001b[0mdtype\u001b[0m\u001b[1;33m)\u001b[0m\u001b[1;33m\u001b[0m\u001b[1;33m\u001b[0m\u001b[0m\n\u001b[0m\u001b[0;32m   5090\u001b[0m \u001b[1;33m\u001b[0m\u001b[0m\n\u001b[0;32m   5091\u001b[0m         \u001b[0margsort\u001b[0m \u001b[1;33m=\u001b[0m \u001b[0mnp\u001b[0m\u001b[1;33m.\u001b[0m\u001b[0margsort\u001b[0m\u001b[1;33m(\u001b[0m\u001b[0mnew_mgr_locs\u001b[0m\u001b[1;33m)\u001b[0m\u001b[1;33m\u001b[0m\u001b[1;33m\u001b[0m\u001b[0m\n",
      "\u001b[1;32m~\\AppData\\Local\\Continuum\\anaconda3\\lib\\site-packages\\pandas\\core\\internals.py\u001b[0m in \u001b[0;36m_vstack\u001b[1;34m(to_stack, dtype)\u001b[0m\n\u001b[0;32m   5133\u001b[0m \u001b[1;33m\u001b[0m\u001b[0m\n\u001b[0;32m   5134\u001b[0m     \u001b[1;32melse\u001b[0m\u001b[1;33m:\u001b[0m\u001b[1;33m\u001b[0m\u001b[1;33m\u001b[0m\u001b[0m\n\u001b[1;32m-> 5135\u001b[1;33m         \u001b[1;32mreturn\u001b[0m \u001b[0mnp\u001b[0m\u001b[1;33m.\u001b[0m\u001b[0mvstack\u001b[0m\u001b[1;33m(\u001b[0m\u001b[0mto_stack\u001b[0m\u001b[1;33m)\u001b[0m\u001b[1;33m\u001b[0m\u001b[1;33m\u001b[0m\u001b[0m\n\u001b[0m\u001b[0;32m   5136\u001b[0m \u001b[1;33m\u001b[0m\u001b[0m\n\u001b[0;32m   5137\u001b[0m \u001b[1;33m\u001b[0m\u001b[0m\n",
      "\u001b[1;32m~\\AppData\\Local\\Continuum\\anaconda3\\lib\\site-packages\\numpy\\core\\shape_base.py\u001b[0m in \u001b[0;36mvstack\u001b[1;34m(tup)\u001b[0m\n\u001b[0;32m    232\u001b[0m \u001b[1;33m\u001b[0m\u001b[0m\n\u001b[0;32m    233\u001b[0m     \"\"\"\n\u001b[1;32m--> 234\u001b[1;33m     \u001b[1;32mreturn\u001b[0m \u001b[0m_nx\u001b[0m\u001b[1;33m.\u001b[0m\u001b[0mconcatenate\u001b[0m\u001b[1;33m(\u001b[0m\u001b[1;33m[\u001b[0m\u001b[0matleast_2d\u001b[0m\u001b[1;33m(\u001b[0m\u001b[0m_m\u001b[0m\u001b[1;33m)\u001b[0m \u001b[1;32mfor\u001b[0m \u001b[0m_m\u001b[0m \u001b[1;32min\u001b[0m \u001b[0mtup\u001b[0m\u001b[1;33m]\u001b[0m\u001b[1;33m,\u001b[0m \u001b[1;36m0\u001b[0m\u001b[1;33m)\u001b[0m\u001b[1;33m\u001b[0m\u001b[1;33m\u001b[0m\u001b[0m\n\u001b[0m\u001b[0;32m    235\u001b[0m \u001b[1;33m\u001b[0m\u001b[0m\n\u001b[0;32m    236\u001b[0m \u001b[1;32mdef\u001b[0m \u001b[0mhstack\u001b[0m\u001b[1;33m(\u001b[0m\u001b[0mtup\u001b[0m\u001b[1;33m)\u001b[0m\u001b[1;33m:\u001b[0m\u001b[1;33m\u001b[0m\u001b[1;33m\u001b[0m\u001b[0m\n",
      "\u001b[1;31mMemoryError\u001b[0m: "
     ]
    }
   ],
   "source": [
    "df2017 = pd.read_sas('LLCP2017.XPT')"
   ]
  },
  {
   "cell_type": "code",
   "execution_count": 3,
   "metadata": {},
   "outputs": [],
   "source": [
    "na2017 = pd.DataFrame(df2017.isna().sum(),columns = ['NA'])"
   ]
  },
  {
   "cell_type": "code",
   "execution_count": 4,
   "metadata": {},
   "outputs": [],
   "source": [
    "#Keep only columns with less than 10% of NAs\n",
    "na2017_s = na2017[na2017['NA']<=0.1*len(df2017)]"
   ]
  },
  {
   "cell_type": "code",
   "execution_count": 6,
   "metadata": {},
   "outputs": [],
   "source": [
    "set_2017 = set(na2017_s.index)"
   ]
  },
  {
   "cell_type": "code",
   "execution_count": 7,
   "metadata": {},
   "outputs": [],
   "source": [
    "df2016 = pd.read_sas('LLCP2016.XPT')"
   ]
  },
  {
   "cell_type": "code",
   "execution_count": 8,
   "metadata": {},
   "outputs": [
    {
     "data": {
      "text/plain": [
       "114"
      ]
     },
     "execution_count": 8,
     "metadata": {},
     "output_type": "execute_result"
    }
   ],
   "source": [
    "na2016 = pd.DataFrame(df2016.isna().sum(),columns = ['NA'])\n",
    "na2016_s = na2016[na2016['NA']<=0.1*len(df2016)]\n",
    "len(na2016_s)"
   ]
  },
  {
   "cell_type": "code",
   "execution_count": 9,
   "metadata": {},
   "outputs": [],
   "source": [
    "set_2016 = set(na2016_s.index)"
   ]
  },
  {
   "cell_type": "code",
   "execution_count": 10,
   "metadata": {},
   "outputs": [],
   "source": [
    "df2015 = pd.read_csv('2015.csv')"
   ]
  },
  {
   "cell_type": "code",
   "execution_count": 11,
   "metadata": {},
   "outputs": [
    {
     "data": {
      "text/plain": [
       "145"
      ]
     },
     "execution_count": 11,
     "metadata": {},
     "output_type": "execute_result"
    }
   ],
   "source": [
    "na2015 = pd.DataFrame(df2015.isna().sum(),columns = ['NA'])\n",
    "na2015_s = na2015[na2015['NA']<=0.1*len(df2015)]\n",
    "len(na2015_s)"
   ]
  },
  {
   "cell_type": "code",
   "execution_count": 12,
   "metadata": {},
   "outputs": [],
   "source": [
    "set_2015 = set(na2015_s.index)"
   ]
  },
  {
   "cell_type": "code",
   "execution_count": 13,
   "metadata": {},
   "outputs": [],
   "source": [
    "df2014 = pd.read_csv('2014.csv')"
   ]
  },
  {
   "cell_type": "code",
   "execution_count": 14,
   "metadata": {},
   "outputs": [
    {
     "data": {
      "text/plain": [
       "114"
      ]
     },
     "execution_count": 14,
     "metadata": {},
     "output_type": "execute_result"
    }
   ],
   "source": [
    "na2014 = pd.DataFrame(df2014.isna().sum(),columns = ['NA'])\n",
    "na2014_s = na2014[na2014['NA']<=0.1*len(df2014)]\n",
    "len(na2014_s)"
   ]
  },
  {
   "cell_type": "code",
   "execution_count": 15,
   "metadata": {},
   "outputs": [],
   "source": [
    "set_2014 = set(na2014_s.index)"
   ]
  },
  {
   "cell_type": "code",
   "execution_count": 16,
   "metadata": {},
   "outputs": [],
   "source": [
    "df2013 = pd.read_csv('2013.csv')"
   ]
  },
  {
   "cell_type": "code",
   "execution_count": 17,
   "metadata": {},
   "outputs": [
    {
     "data": {
      "text/plain": [
       "158"
      ]
     },
     "execution_count": 17,
     "metadata": {},
     "output_type": "execute_result"
    }
   ],
   "source": [
    "na2013 = pd.DataFrame(df2013.isna().sum(),columns = ['NA'])\n",
    "na2013_s = na2013[na2013['NA']<=0.1*len(df2013)]\n",
    "len(na2013_s)"
   ]
  },
  {
   "cell_type": "code",
   "execution_count": 18,
   "metadata": {},
   "outputs": [],
   "source": [
    "set_2013 = set(na2013_s.index)"
   ]
  },
  {
   "cell_type": "code",
   "execution_count": 19,
   "metadata": {},
   "outputs": [],
   "source": [
    "df2012 = pd.read_csv('2012.csv')"
   ]
  },
  {
   "cell_type": "code",
   "execution_count": 20,
   "metadata": {},
   "outputs": [
    {
     "data": {
      "text/plain": [
       "133"
      ]
     },
     "execution_count": 20,
     "metadata": {},
     "output_type": "execute_result"
    }
   ],
   "source": [
    "na2012 = pd.DataFrame(df2012.isna().sum(),columns = ['NA'])\n",
    "na2012_s = na2012[na2012['NA']<=0.1*len(df2012)]\n",
    "len(na2012_s)"
   ]
  },
  {
   "cell_type": "code",
   "execution_count": 21,
   "metadata": {},
   "outputs": [],
   "source": [
    "set_2012 = set(na2012_s.index)"
   ]
  },
  {
   "cell_type": "code",
   "execution_count": 22,
   "metadata": {},
   "outputs": [],
   "source": [
    "df2011 = pd.read_csv('2011.csv')"
   ]
  },
  {
   "cell_type": "code",
   "execution_count": 23,
   "metadata": {},
   "outputs": [
    {
     "data": {
      "text/plain": [
       "165"
      ]
     },
     "execution_count": 23,
     "metadata": {},
     "output_type": "execute_result"
    }
   ],
   "source": [
    "na2011 = pd.DataFrame(df2011.isna().sum(),columns = ['NA'])\n",
    "na2011_s = na2011[na2011['NA']<=0.1*len(df2011)]\n",
    "len(na2011_s)"
   ]
  },
  {
   "cell_type": "code",
   "execution_count": 24,
   "metadata": {},
   "outputs": [],
   "source": [
    "set_2011 = set(na2011_s.index)"
   ]
  },
  {
   "cell_type": "code",
   "execution_count": 25,
   "metadata": {},
   "outputs": [],
   "source": [
    "u = set.intersection(set_2017, set_2016, set_2015,set_2014,set_2013,set_2012,set_2011)"
   ]
  },
  {
   "cell_type": "code",
   "execution_count": 26,
   "metadata": {},
   "outputs": [
    {
     "data": {
      "text/plain": [
       "76"
      ]
     },
     "execution_count": 26,
     "metadata": {},
     "output_type": "execute_result"
    }
   ],
   "source": [
    "len(u)"
   ]
  },
  {
   "cell_type": "code",
   "execution_count": 27,
   "metadata": {},
   "outputs": [],
   "source": [
    "df2010 = pd.read_csv('2010.csv')"
   ]
  },
  {
   "cell_type": "code",
   "execution_count": 28,
   "metadata": {},
   "outputs": [
    {
     "data": {
      "text/plain": [
       "134"
      ]
     },
     "execution_count": 28,
     "metadata": {},
     "output_type": "execute_result"
    }
   ],
   "source": [
    "na2010 = pd.DataFrame(df2010.isna().sum(),columns = ['NA'])\n",
    "na2010_s = na2010[na2010['NA']<=0.1*len(df2010)]\n",
    "len(na2010_s)"
   ]
  },
  {
   "cell_type": "code",
   "execution_count": 29,
   "metadata": {},
   "outputs": [],
   "source": [
    "set_2010 = set(na2010_s.index)"
   ]
  },
  {
   "cell_type": "code",
   "execution_count": 30,
   "metadata": {},
   "outputs": [],
   "source": [
    "df2009 = pd.read_csv('2009.csv')"
   ]
  },
  {
   "cell_type": "code",
   "execution_count": 32,
   "metadata": {},
   "outputs": [
    {
     "data": {
      "text/plain": [
       "166"
      ]
     },
     "execution_count": 32,
     "metadata": {},
     "output_type": "execute_result"
    }
   ],
   "source": [
    "na2009 = pd.DataFrame(df2009.isna().sum(),columns = ['NA'])\n",
    "na2009_s = na2009[na2009['NA']<=0.1*len(df2009)]\n",
    "len(na2009_s)"
   ]
  },
  {
   "cell_type": "code",
   "execution_count": 33,
   "metadata": {},
   "outputs": [],
   "source": [
    "set_2009 = set(na2009_s.index)"
   ]
  },
  {
   "cell_type": "code",
   "execution_count": 34,
   "metadata": {},
   "outputs": [],
   "source": [
    "df2008 = pd.read_csv('2008.csv')"
   ]
  },
  {
   "cell_type": "code",
   "execution_count": 36,
   "metadata": {},
   "outputs": [
    {
     "data": {
      "text/plain": [
       "134"
      ]
     },
     "execution_count": 36,
     "metadata": {},
     "output_type": "execute_result"
    }
   ],
   "source": [
    "na2008 = pd.DataFrame(df2008.isna().sum(),columns = ['NA'])\n",
    "na2008_s = na2008[na2008['NA']<=0.1*len(df2008)]\n",
    "len(na2008_s)"
   ]
  },
  {
   "cell_type": "code",
   "execution_count": 37,
   "metadata": {},
   "outputs": [],
   "source": [
    "set_2008 = set(na2008_s.index)"
   ]
  },
  {
   "cell_type": "code",
   "execution_count": 38,
   "metadata": {},
   "outputs": [],
   "source": [
    "#Find common variables from 2008 to 2010\n",
    "u2 = set.intersection(set_2010,set_2009,set_2008)"
   ]
  },
  {
   "cell_type": "code",
   "execution_count": 39,
   "metadata": {},
   "outputs": [
    {
     "data": {
      "text/plain": [
       "119"
      ]
     },
     "execution_count": 39,
     "metadata": {},
     "output_type": "execute_result"
    }
   ],
   "source": [
    "len(u2)"
   ]
  },
  {
   "cell_type": "code",
   "execution_count": 40,
   "metadata": {},
   "outputs": [],
   "source": [
    "u2_rename = list(u2)"
   ]
  },
  {
   "cell_type": "code",
   "execution_count": 41,
   "metadata": {},
   "outputs": [],
   "source": [
    "dic = {'ASTHMA2':'ASTHMA3','DIABETE2':'DIABETE3','DRNKANY4':'DRNKANY5','DROCDY2_':'DROCDY3_',\\\n",
    "      'HTIN3':'HTIN4','HTM3':'HTM4','_BMI4':'_BMI5','_HCVU65':'_HCVU651','_LTASTHM':'_LTASTH1','WTKG2':'WTKG3'}\n",
    "\n",
    "u2_renamed = [dic.get(n, n) for n in u2_rename]"
   ]
  },
  {
   "cell_type": "code",
   "execution_count": 42,
   "metadata": {},
   "outputs": [],
   "source": [
    "u2_renamed = set(u2_renamed)"
   ]
  },
  {
   "cell_type": "code",
   "execution_count": 43,
   "metadata": {},
   "outputs": [],
   "source": [
    "u3_renamed = set.intersection(u,u2_renamed)"
   ]
  },
  {
   "cell_type": "code",
   "execution_count": 44,
   "metadata": {},
   "outputs": [
    {
     "data": {
      "text/plain": [
       "52"
      ]
     },
     "execution_count": 44,
     "metadata": {},
     "output_type": "execute_result"
    }
   ],
   "source": [
    "len(u3_renamed)"
   ]
  },
  {
   "cell_type": "code",
   "execution_count": 47,
   "metadata": {},
   "outputs": [],
   "source": [
    "#rename variables for 2008 - 2010 data\n",
    "df2008_r = df2008.rename(columns ={'ASTHMA2':'ASTHMA3','DIABETE2':'DIABETE3','DRNKANY4':'DRNKANY5','DROCDY2_':'DROCDY3_',\\\n",
    "      'HTIN3':'HTIN4','HTM3':'HTM4','_BMI4':'_BMI5','_HCVU65':'_HCVU651','_LTASTHM':'_LTASTH1','WTKG2':'WTKG3'})"
   ]
  },
  {
   "cell_type": "code",
   "execution_count": 48,
   "metadata": {},
   "outputs": [],
   "source": [
    "df2009_r = df2009.rename(columns ={'ASTHMA2':'ASTHMA3','DIABETE2':'DIABETE3','DRNKANY4':'DRNKANY5','DROCDY2_':'DROCDY3_',\\\n",
    "      'HTIN3':'HTIN4','HTM3':'HTM4','_BMI4':'_BMI5','_HCVU65':'_HCVU651','_LTASTHM':'_LTASTH1','WTKG2':'WTKG3'})"
   ]
  },
  {
   "cell_type": "code",
   "execution_count": 49,
   "metadata": {},
   "outputs": [],
   "source": [
    "df2010_r = df2010.rename(columns ={'ASTHMA2':'ASTHMA3','DIABETE2':'DIABETE3','DRNKANY4':'DRNKANY5','DROCDY2_':'DROCDY3_',\\\n",
    "      'HTIN3':'HTIN4','HTM3':'HTM4','_BMI4':'_BMI5','_HCVU65':'_HCVU651','_LTASTHM':'_LTASTH1','WTKG2':'WTKG3'})"
   ]
  },
  {
   "cell_type": "code",
   "execution_count": 50,
   "metadata": {},
   "outputs": [],
   "source": [
    "cols_to_keep = list(u3_renamed)"
   ]
  },
  {
   "cell_type": "code",
   "execution_count": 51,
   "metadata": {},
   "outputs": [],
   "source": [
    "#Keep only these common columns\n",
    "df2017_s = df2017[cols_to_keep]\n",
    "df2016_s = df2016[cols_to_keep]\n",
    "df2015_s = df2015[cols_to_keep]\n",
    "df2014_s = df2014[cols_to_keep]\n",
    "df2013_s = df2013[cols_to_keep]\n",
    "df2012_s = df2012[cols_to_keep]\n",
    "df2011_s = df2011[cols_to_keep]\n",
    "df2010_s = df2010_r[cols_to_keep]\n",
    "df2009_s = df2009_r[cols_to_keep]\n",
    "df2008_s = df2008_r[cols_to_keep]"
   ]
  },
  {
   "cell_type": "code",
   "execution_count": 52,
   "metadata": {},
   "outputs": [
    {
     "data": {
      "text/plain": [
       "(414509, 52)"
      ]
     },
     "execution_count": 52,
     "metadata": {},
     "output_type": "execute_result"
    }
   ],
   "source": [
    "df2008_s.shape"
   ]
  },
  {
   "cell_type": "code",
   "execution_count": 53,
   "metadata": {},
   "outputs": [],
   "source": [
    "#Merge 10 years data\n",
    "concat_list = [df2017_s,df2016_s,df2015_s,df2014_s,df2013_s,df2012_s,df2011_s,df2010_s,df2009_s,df2008_s]\n",
    "data = pd.concat(concat_list)"
   ]
  },
  {
   "cell_type": "code",
   "execution_count": 54,
   "metadata": {},
   "outputs": [
    {
     "data": {
      "text/plain": [
       "(4614557, 52)"
      ]
     },
     "execution_count": 54,
     "metadata": {},
     "output_type": "execute_result"
    }
   ],
   "source": [
    "data.shape"
   ]
  },
  {
   "cell_type": "code",
   "execution_count": 55,
   "metadata": {},
   "outputs": [
    {
     "data": {
      "text/plain": [
       "Index(['_PSU', '_TOTINDA', 'WTKG3', 'CVDINFR4', 'PNEUVAC3', 'ASTHMA3',\n",
       "       '_AGE_G', 'SEX', 'IMONTH', 'MEDCOST', 'CVDCRHD4', '_STATE', '_HCVU651',\n",
       "       'MENTHLTH', '_RFSMOK3', '_LTASTH1', '_STSTR', 'EXERANY2', 'CHILDREN',\n",
       "       'DRNKANY5', 'QSTLANG', 'IDATE', '_STRWT', 'GENHLTH', 'HEIGHT3',\n",
       "       'DROCDY3_', 'SMOKE100', '_BMI5', 'DIABETE3', '_CHLDCNT', 'CVDSTRK3',\n",
       "       'EDUCA', '_RFHLTH', 'PHYSHLTH', '_SMOKER3', 'IDAY', 'HTIN4', 'SEQNO',\n",
       "       'MARITAL', '_EDUCAG', 'INCOME2', '_AGE65YR', 'IYEAR', '_AGEG5YR',\n",
       "       'WEIGHT2', 'DISPCODE', 'PERSDOC2', 'FMONTH', 'HTM4', 'CHECKUP1',\n",
       "       'QSTVER', '_INCOMG'],\n",
       "      dtype='object')"
      ]
     },
     "execution_count": 55,
     "metadata": {},
     "output_type": "execute_result"
    }
   ],
   "source": [
    "data.columns"
   ]
  },
  {
   "cell_type": "code",
   "execution_count": 81,
   "metadata": {},
   "outputs": [],
   "source": [
    "data2 = data.drop(columns =['_PSU', #Data hidden\n",
    "                            'QSTVER',#Questionaire version, not needed\n",
    "                            'IDAY',#Day of interview, not needed\n",
    "                            'IDATE',#Date of interview, not needed\n",
    "                            '_STSTR',#Data hidden\n",
    "                            'SEQNO',#Sequence number, data hidden\n",
    "                            'IMONTH',#Month of interview, not needed\n",
    "                            'FMONTH',#File month, not needed\n",
    "                            'DISPCODE',#If the interveiw is complete, not needed\n",
    "                            '_STRWT' ,#Weight rank, Data hidden\n",
    "                            'HEIGHT3','HTIN4', #Overlap with HTM4\n",
    "                            'WEIGHT2', #Overlap with WTKG3\n",
    "                            '_HCVU651', #Not needed\n",
    "                            'INCOME2',#Overlap with _INCOMG\n",
    "                            'EDUCA', #Overlap with EDUCAG\n",
    "                            '_RFSMOK3', #overlap with _SMOK3\n",
    "                            '_CHLDCNT', #Overlap with CHILDREN\n",
    "                            '_AGE_G','_AGE65YR', #Overlap with _AGEG5YR\n",
    "                            '_RFHLTH', #Overlap with GENHLTH\n",
    "                            'QSTLANG', #Question language , not needed\n",
    "                            '_LTASTH1' #Overlap with ASTHMA3\n",
    "                           ])"
   ]
  },
  {
   "cell_type": "code",
   "execution_count": 82,
   "metadata": {},
   "outputs": [
    {
     "data": {
      "text/plain": [
       "(4614557, 29)"
      ]
     },
     "execution_count": 82,
     "metadata": {},
     "output_type": "execute_result"
    }
   ],
   "source": [
    "data2.shape"
   ]
  },
  {
   "cell_type": "code",
   "execution_count": 83,
   "metadata": {},
   "outputs": [
    {
     "data": {
      "text/plain": [
       "_TOTINDA    0.000000\n",
       "WTKG3       0.039301\n",
       "CVDINFR4    0.000003\n",
       "PNEUVAC3    0.049053\n",
       "ASTHMA3     0.000001\n",
       "SEX         0.000000\n",
       "MEDCOST     0.000002\n",
       "CVDCRHD4    0.000002\n",
       "_STATE      0.000000\n",
       "MENTHLTH    0.000004\n",
       "EXERANY2    0.026147\n",
       "CHILDREN    0.000784\n",
       "DRNKANY5    0.002655\n",
       "GENHLTH     0.000009\n",
       "DROCDY3_    0.000002\n",
       "SMOKE100    0.017892\n",
       "_BMI5       0.048321\n",
       "DIABETE3    0.000250\n",
       "CVDSTRK3    0.000001\n",
       "PHYSHLTH    0.000006\n",
       "_SMOKER3    0.000000\n",
       "MARITAL     0.000552\n",
       "_EDUCAG     0.000000\n",
       "IYEAR       0.000000\n",
       "_AGEG5YR    0.000000\n",
       "PERSDOC2    0.000002\n",
       "HTM4        0.017928\n",
       "CHECKUP1    0.000002\n",
       "_INCOMG     0.000000\n",
       "dtype: float64"
      ]
     },
     "execution_count": 83,
     "metadata": {},
     "output_type": "execute_result"
    }
   ],
   "source": [
    "data2.isna().sum()/len(data2)"
   ]
  },
  {
   "cell_type": "code",
   "execution_count": 84,
   "metadata": {},
   "outputs": [],
   "source": [
    "#Drop rows that have missing values\n",
    "data3 = data2.dropna()"
   ]
  },
  {
   "cell_type": "code",
   "execution_count": 85,
   "metadata": {},
   "outputs": [
    {
     "data": {
      "text/plain": [
       "(4215003, 29)"
      ]
     },
     "execution_count": 85,
     "metadata": {},
     "output_type": "execute_result"
    }
   ],
   "source": [
    "data3.shape"
   ]
  },
  {
   "cell_type": "code",
   "execution_count": 86,
   "metadata": {},
   "outputs": [
    {
     "data": {
      "text/plain": [
       "_TOTINDA    0\n",
       "WTKG3       0\n",
       "CVDINFR4    0\n",
       "PNEUVAC3    0\n",
       "ASTHMA3     0\n",
       "SEX         0\n",
       "MEDCOST     0\n",
       "CVDCRHD4    0\n",
       "_STATE      0\n",
       "MENTHLTH    0\n",
       "EXERANY2    0\n",
       "CHILDREN    0\n",
       "DRNKANY5    0\n",
       "GENHLTH     0\n",
       "DROCDY3_    0\n",
       "SMOKE100    0\n",
       "_BMI5       0\n",
       "DIABETE3    0\n",
       "CVDSTRK3    0\n",
       "PHYSHLTH    0\n",
       "_SMOKER3    0\n",
       "MARITAL     0\n",
       "_EDUCAG     0\n",
       "IYEAR       0\n",
       "_AGEG5YR    0\n",
       "PERSDOC2    0\n",
       "HTM4        0\n",
       "CHECKUP1    0\n",
       "_INCOMG     0\n",
       "dtype: int64"
      ]
     },
     "execution_count": 86,
     "metadata": {},
     "output_type": "execute_result"
    }
   ],
   "source": [
    "data3.isna().sum()"
   ]
  },
  {
   "cell_type": "code",
   "execution_count": 72,
   "metadata": {},
   "outputs": [],
   "source": [
    "data3.to_csv('WIP.csv',index = False)"
   ]
  },
  {
   "cell_type": "markdown",
   "metadata": {},
   "source": [
    "## Map variables"
   ]
  },
  {
   "cell_type": "code",
   "execution_count": 4,
   "metadata": {},
   "outputs": [],
   "source": [
    "data3 = pd.read_csv('WIP.csv')"
   ]
  },
  {
   "cell_type": "code",
   "execution_count": 5,
   "metadata": {},
   "outputs": [
    {
     "data": {
      "text/plain": [
       "Index(['_TOTINDA', 'WTKG3', 'CVDINFR4', 'PNEUVAC3', 'ASTHMA3', 'SEX',\n",
       "       'MEDCOST', 'CVDCRHD4', '_STATE', 'MENTHLTH', '_LTASTH1', 'EXERANY2',\n",
       "       'CHILDREN', 'DRNKANY5', 'GENHLTH', 'DROCDY3_', 'SMOKE100', '_BMI5',\n",
       "       'DIABETE3', 'CVDSTRK3', 'PHYSHLTH', '_SMOKER3', 'MARITAL', '_EDUCAG',\n",
       "       'IYEAR', '_AGEG5YR', 'PERSDOC2', 'HTM4', 'CHECKUP1', '_INCOMG'],\n",
       "      dtype='object')"
      ]
     },
     "execution_count": 5,
     "metadata": {},
     "output_type": "execute_result"
    }
   ],
   "source": [
    "data3.columns"
   ]
  },
  {
   "cell_type": "code",
   "execution_count": 7,
   "metadata": {},
   "outputs": [],
   "source": [
    "#data3 = data3.drop(columns=['_LTASTH1'])"
   ]
  },
  {
   "cell_type": "code",
   "execution_count": 8,
   "metadata": {},
   "outputs": [
    {
     "data": {
      "text/plain": [
       "(4215003, 29)"
      ]
     },
     "execution_count": 8,
     "metadata": {},
     "output_type": "execute_result"
    }
   ],
   "source": [
    "#data3.shape"
   ]
  },
  {
   "cell_type": "code",
   "execution_count": 88,
   "metadata": {},
   "outputs": [
    {
     "data": {
      "text/plain": [
       "_TOTINDA    float64\n",
       "WTKG3       float64\n",
       "CVDINFR4    float64\n",
       "PNEUVAC3    float64\n",
       "ASTHMA3     float64\n",
       "SEX         float64\n",
       "MEDCOST     float64\n",
       "CVDCRHD4    float64\n",
       "_STATE      float64\n",
       "MENTHLTH    float64\n",
       "EXERANY2    float64\n",
       "CHILDREN    float64\n",
       "DRNKANY5    float64\n",
       "GENHLTH     float64\n",
       "DROCDY3_    float64\n",
       "SMOKE100    float64\n",
       "_BMI5       float64\n",
       "DIABETE3    float64\n",
       "CVDSTRK3    float64\n",
       "PHYSHLTH    float64\n",
       "_SMOKER3    float64\n",
       "MARITAL     float64\n",
       "_EDUCAG     float64\n",
       "IYEAR        object\n",
       "_AGEG5YR    float64\n",
       "PERSDOC2    float64\n",
       "HTM4        float64\n",
       "CHECKUP1    float64\n",
       "_INCOMG     float64\n",
       "dtype: object"
      ]
     },
     "execution_count": 88,
     "metadata": {},
     "output_type": "execute_result"
    }
   ],
   "source": [
    "data3.dtypes"
   ]
  },
  {
   "cell_type": "code",
   "execution_count": 9,
   "metadata": {},
   "outputs": [],
   "source": [
    "data4 = data3.copy()"
   ]
  },
  {
   "cell_type": "code",
   "execution_count": 10,
   "metadata": {},
   "outputs": [],
   "source": [
    "MEDCOST = {1:'Yes',2:'No',7:'Don’t know/Not sure',9:'Refused to answer'}\n",
    "data4['MEDCOST']  = data4['MEDCOST'].map(MEDCOST)"
   ]
  },
  {
   "cell_type": "code",
   "execution_count": 11,
   "metadata": {},
   "outputs": [],
   "source": [
    "CHECKUP1 = {1:'Within past year',2:'Within past 2 years',3:'Within past 5 years',\\\n",
    "           4:'5 or more years ago',7:'Don’t know/Not sure',8:'Never',9:'Refused to answer'}\n",
    "data4['CHECKUP1']  = data4['CHECKUP1'].map(CHECKUP1)"
   ]
  },
  {
   "cell_type": "code",
   "execution_count": 12,
   "metadata": {},
   "outputs": [],
   "source": [
    "MENTHLTH = {88:0,77:'Don’t know/Not sure',99:'Refused to answer',\\\n",
    "           1:1,2:2,3:3,4:4,5:5,6:6,7:7,8:8,9:9,10:10,11:11,12:12,13:13,14:14,15:15,16:16,\\\n",
    "           17:17,18:18,19:19,20:20,21:21,22:22,23:23,24:24,25:25,26:26,27:27,28:28,29:29,30:30}\n",
    "data4['MENTHLTH']  = data4['MENTHLTH'].map(MENTHLTH)"
   ]
  },
  {
   "cell_type": "code",
   "execution_count": 13,
   "metadata": {},
   "outputs": [],
   "source": [
    "SMOKE100 = {1:'Yes',2:'No',7:'Don’t know/Not sure',9:'Refused to answer'}\n",
    "data4['SMOKE100']  = data4['SMOKE100'].map(SMOKE100)"
   ]
  },
  {
   "cell_type": "code",
   "execution_count": 14,
   "metadata": {},
   "outputs": [],
   "source": [
    "PHYSHLTH = {88:0,77:'Don’t know/Not sure',99:'Refused to answer',\\\n",
    "           1:1,2:2,3:3,4:4,5:5,6:6,7:7,8:8,9:9,10:10,11:11,12:12,13:13,14:14,15:15,16:16,\\\n",
    "           17:17,18:18,19:19,20:20,21:21,22:22,23:23,24:24,25:25,26:26,27:27,28:28,29:29,30:30}\n",
    "data4['PHYSHLTH']  = data4['PHYSHLTH'].map(PHYSHLTH)"
   ]
  },
  {
   "cell_type": "code",
   "execution_count": 15,
   "metadata": {},
   "outputs": [],
   "source": [
    "_INCOMG = {1:'Less than $15,000',2:'$15,000 to less than $25,000',3:'$25,000 to less than $35,000',\\\n",
    "          4:'$35,000 to less than $50,000',5:'$50,000 or more',9:'Don’t know/Not sure'}\n",
    "data4['_INCOMG']  = data4['_INCOMG'].map(_INCOMG)"
   ]
  },
  {
   "cell_type": "code",
   "execution_count": 16,
   "metadata": {},
   "outputs": [],
   "source": [
    "CVDSTRK3 = {1:'Yes',2:'No',7:'Don’t know/Not sure',9:'Refused to answer'}\n",
    "data4['CVDSTRK3']  = data4['CVDSTRK3'].map(CVDSTRK3)"
   ]
  },
  {
   "cell_type": "code",
   "execution_count": 17,
   "metadata": {},
   "outputs": [],
   "source": [
    "DRNKANY5 = {1:'Yes',2:'No',7:'Don’t know/Not sure',9:'Refused to answer'}\n",
    "data4['DRNKANY5']  = data4['DRNKANY5'].map(DRNKANY5)"
   ]
  },
  {
   "cell_type": "code",
   "execution_count": 18,
   "metadata": {},
   "outputs": [],
   "source": [
    "_TOTINDA = {1:'Had physical activity or exercise',2:'No physical activity or exercise in last 30 days',\\\n",
    "           9:'Don’t know/Refused'}\n",
    "data4['_TOTINDA']  = data4['_TOTINDA'].map(_TOTINDA)"
   ]
  },
  {
   "cell_type": "code",
   "execution_count": 19,
   "metadata": {},
   "outputs": [],
   "source": [
    "CVDINFR4 = {1:'Yes',2:'No',7:'Don’t know/Not sure',9:'Refused to answer'}\n",
    "data4['CVDINFR4']  = data4['CVDINFR4'].map(CVDINFR4)"
   ]
  },
  {
   "cell_type": "code",
   "execution_count": 20,
   "metadata": {},
   "outputs": [
    {
     "data": {
      "text/plain": [
       "172.09218261529114"
      ]
     },
     "execution_count": 20,
     "metadata": {},
     "output_type": "execute_result"
    }
   ],
   "source": [
    "data4['HTM4'].mean()"
   ]
  },
  {
   "cell_type": "code",
   "execution_count": 21,
   "metadata": {},
   "outputs": [],
   "source": [
    "def replace_drocdy3(i):\n",
    "    if i == 900:\n",
    "        i = 'Don’t know/Not Sure'\n",
    "    return i        "
   ]
  },
  {
   "cell_type": "code",
   "execution_count": 22,
   "metadata": {},
   "outputs": [],
   "source": [
    "data4['DROCDY3_'] = data4['DROCDY3_'].apply(replace_drocdy3)"
   ]
  },
  {
   "cell_type": "code",
   "execution_count": 23,
   "metadata": {},
   "outputs": [],
   "source": [
    "PNEUVAC3 = {1:'Yes',2:'No',7:'Don’t know/Not sure',9:'Refused to answer'}\n",
    "data4['PNEUVAC3'] = data4['PNEUVAC3'].map(PNEUVAC3)"
   ]
  },
  {
   "cell_type": "code",
   "execution_count": 24,
   "metadata": {},
   "outputs": [],
   "source": [
    "PERSDOC2 = {1:'Yes, only one',2:'More than one',3:'No',7:'Don’t know/Not sure',9:'Refused to answer'}\n",
    "data4['PERSDOC2']  = data4['PERSDOC2'].map(PERSDOC2)"
   ]
  },
  {
   "cell_type": "code",
   "execution_count": 25,
   "metadata": {},
   "outputs": [],
   "source": [
    "CVDCRHD4 = {1:'Yes',2:'No',7:'Don’t know/Not sure',9:'Refused to answer'}\n",
    "data4['CVDCRHD4']  = data4['CVDCRHD4'].map(CVDCRHD4)"
   ]
  },
  {
   "cell_type": "code",
   "execution_count": 26,
   "metadata": {},
   "outputs": [],
   "source": [
    "DIABETE3 =  {1:'Yes',2:'Yes, but female told only during pregnancy',\\\n",
    "             3:'No',4:'No, pre-diabetes or borderline diabetes',7:'Don’t know/Not sure',\\\n",
    "             9:'Refused to answer'}\n",
    "data4['DIABETE3']  = data4['DIABETE3'].map(DIABETE3)"
   ]
  },
  {
   "cell_type": "code",
   "execution_count": 27,
   "metadata": {},
   "outputs": [],
   "source": [
    "def replace_children(i):\n",
    "    if i == 99:\n",
    "        i = 'Refused to answer'\n",
    "    elif i == 88:\n",
    "        i=0\n",
    "    return i        "
   ]
  },
  {
   "cell_type": "code",
   "execution_count": 77,
   "metadata": {},
   "outputs": [
    {
     "data": {
      "text/plain": [
       "5"
      ]
     },
     "execution_count": 77,
     "metadata": {},
     "output_type": "execute_result"
    }
   ],
   "source": [
    "replace_children(5)"
   ]
  },
  {
   "cell_type": "code",
   "execution_count": 78,
   "metadata": {},
   "outputs": [
    {
     "data": {
      "text/plain": [
       "0"
      ]
     },
     "execution_count": 78,
     "metadata": {},
     "output_type": "execute_result"
    }
   ],
   "source": [
    "replace_children(88)"
   ]
  },
  {
   "cell_type": "code",
   "execution_count": 79,
   "metadata": {},
   "outputs": [
    {
     "data": {
      "text/plain": [
       "'Refused to answer'"
      ]
     },
     "execution_count": 79,
     "metadata": {},
     "output_type": "execute_result"
    }
   ],
   "source": [
    "replace_children(99)"
   ]
  },
  {
   "cell_type": "code",
   "execution_count": 28,
   "metadata": {},
   "outputs": [],
   "source": [
    "data4['CHILDREN'] = data4['CHILDREN'].apply(replace_children)"
   ]
  },
  {
   "cell_type": "code",
   "execution_count": 29,
   "metadata": {},
   "outputs": [],
   "source": [
    "MARITAL = {1:'Married',2:'Divorced',3:'Widowed',4:'Separated',5:'Never married',6:'A member of an unmarried couple',9:'Refused to answer'}\n",
    "data4['MARITAL']  = data4['MARITAL'].map(MARITAL)"
   ]
  },
  {
   "cell_type": "code",
   "execution_count": 32,
   "metadata": {},
   "outputs": [
    {
     "data": {
      "text/plain": [
       "array([\"b'2017'\", \"b'2018'\", \"b'2016'\", \"b'2015'\", \"b'2014'\", \"b'2013'\",\n",
       "       \"b'2012'\", \"b'2011'\", \"b'2010'\", \"b'2009'\", \"b'2008'\"],\n",
       "      dtype=object)"
      ]
     },
     "execution_count": 32,
     "metadata": {},
     "output_type": "execute_result"
    }
   ],
   "source": [
    "data3['IYEAR'].unique()"
   ]
  },
  {
   "cell_type": "code",
   "execution_count": 34,
   "metadata": {},
   "outputs": [],
   "source": [
    "IYEAR = {\"b'2017'\":2017, \"b'2018'\":2018, \"b'2016'\":2016,\"b'2015'\":2015, \"b'2014'\":2014,\\\n",
    "         \"b'2013'\":2013, \"b'2012'\":2012, \"b'2011'\":2011, \"b'2010'\":2010, \"b'2009'\":2009, \"b'2008'\":2008}\n",
    "data4['IYEAR']  = data4['IYEAR'].map(IYEAR)"
   ]
  },
  {
   "cell_type": "code",
   "execution_count": 35,
   "metadata": {},
   "outputs": [
    {
     "data": {
      "text/plain": [
       "array([2017, 2018, 2016, 2015, 2014, 2013, 2012, 2011, 2010, 2009, 2008],\n",
       "      dtype=int64)"
      ]
     },
     "execution_count": 35,
     "metadata": {},
     "output_type": "execute_result"
    }
   ],
   "source": [
    "data4['IYEAR'].unique()"
   ]
  },
  {
   "cell_type": "code",
   "execution_count": 36,
   "metadata": {},
   "outputs": [],
   "source": [
    "_SMOKER3 = {1:'Everyday',2:'Sometimes',3:'Former Smoker',4:'Never Smoked',9:'Don’t know/Refused'}\n",
    "data4['_SMOKER3']  = data4['_SMOKER3'].map(_SMOKER3)"
   ]
  },
  {
   "cell_type": "code",
   "execution_count": 37,
   "metadata": {},
   "outputs": [],
   "source": [
    "GENHLTH = {1:'Excellent',2:'Very good',3:'Good',4:'Fair',5:'Poor',7:'Don’t know/Not Sure',9:'Refused to answer'}\n",
    "data4['GENHLTH']  = data4['GENHLTH'].map(GENHLTH)"
   ]
  },
  {
   "cell_type": "code",
   "execution_count": 38,
   "metadata": {},
   "outputs": [],
   "source": [
    "_STATE = {1:'Alabama',2:'Alaska',4:'Arizona',5:'Arkansas',6:'California',8:'Colorado',\\\n",
    "         9:'Connecticut',10:'Delaware',11:'District of Columbia',12:'Florida',13:'Georgia',\\\n",
    "         15:'Hawaii',16:'Idaho',17:'Illinois',18:'Indiana',19:'Iowa',20:'Kansas',21:'Kentucky',\\\n",
    "         22:'Louisiana',23:'Maine',24:'Maryland',25:'Massachusetts',26:'Michigan',27:'Minnesota',\\\n",
    "         28:'Mississippi',29:'Missouri',30:'Montana',31:'Nebraska',32:'Nevada',33:'New Hampshire',\\\n",
    "         34:'New Jersey',35:'New Mexico',36:'New York',37:'North Carolina',38:'North Dakota',\\\n",
    "         39:'Ohio',40:'Oklahoma',41:'Oregon',42:'Pennsylvania',44:'Rhode Island',\\\n",
    "         45:'South Carolina',46:'South Dakota',47:'Tennessee',48:'Texas',49:'Utah',50:'Vermont',\\\n",
    "         51:'Virginia',53:'Washington',54:'West Virginia',55:'Wisconsin',56:'Wyoming',\\\n",
    "         66:'Guam',72:'Puerto Rico',78:'Virgin Islands'\n",
    "         }\n",
    "data4['_STATE']  = data4['_STATE'].map(_STATE)"
   ]
  },
  {
   "cell_type": "code",
   "execution_count": 39,
   "metadata": {},
   "outputs": [],
   "source": [
    "EXERANY2 = {1:'Yes',2:'No',7:'Don’t know/Not sure',9:'Refused to answer'}\n",
    "data4['EXERANY2']  = data4['EXERANY2'].map(EXERANY2)"
   ]
  },
  {
   "cell_type": "code",
   "execution_count": 40,
   "metadata": {},
   "outputs": [],
   "source": [
    "_AGEG5YR ={1:'18-24',2:'25-29',3:'30-34',4:'35-39',5:'40-44',6:'45-49',7:'50-54',\\\n",
    "          8:'55-59',9:'60-64',10:'65-69',11:'70-74',12:'75-79',13:'80-99',14:'Don’t know/Refused'}\n",
    "data4['_AGEG5YR']  = data4['_AGEG5YR'].map(_AGEG5YR)"
   ]
  },
  {
   "cell_type": "code",
   "execution_count": 41,
   "metadata": {},
   "outputs": [],
   "source": [
    "ASTHMA3 = {1:'Yes',2:'No',7:'Don’t know/Not sure',9:'Refused to answer'}\n",
    "data4['ASTHMA3']  = data4['ASTHMA3'].map(ASTHMA3)"
   ]
  },
  {
   "cell_type": "code",
   "execution_count": 42,
   "metadata": {},
   "outputs": [],
   "source": [
    "_EDUCAG = {1:'Did not graduate High School',2:'Graduated High School',\\\n",
    "           3:'Attended College or Technical School',4:'Graduated from College or Technical School',\\\n",
    "          9:'Don’t know/Not sure'}\n",
    "data4['_EDUCAG']  = data4['_EDUCAG'].map(_EDUCAG)"
   ]
  },
  {
   "cell_type": "code",
   "execution_count": 43,
   "metadata": {},
   "outputs": [],
   "source": [
    "SEX = {1:'Male',2:'Female',9:'Refused to answer'}\n",
    "data4['SEX']  = data4['SEX'].map(SEX)"
   ]
  },
  {
   "cell_type": "code",
   "execution_count": 44,
   "metadata": {},
   "outputs": [
    {
     "data": {
      "text/plain": [
       "99999.0"
      ]
     },
     "execution_count": 44,
     "metadata": {},
     "output_type": "execute_result"
    }
   ],
   "source": [
    "data4['WTKG3'].max()"
   ]
  },
  {
   "cell_type": "code",
   "execution_count": 45,
   "metadata": {},
   "outputs": [
    {
     "data": {
      "text/plain": [
       "9999.0"
      ]
     },
     "execution_count": 45,
     "metadata": {},
     "output_type": "execute_result"
    }
   ],
   "source": [
    "data4['_BMI5'].max()"
   ]
  },
  {
   "cell_type": "code",
   "execution_count": 46,
   "metadata": {},
   "outputs": [],
   "source": [
    "def replace_wtkg3(i):\n",
    "    if i == 99999:\n",
    "        i = None\n",
    "    return i  "
   ]
  },
  {
   "cell_type": "code",
   "execution_count": 47,
   "metadata": {},
   "outputs": [],
   "source": [
    "data4['WTKG3'] = data4['WTKG3'].apply(replace_wtkg3)"
   ]
  },
  {
   "cell_type": "code",
   "execution_count": 48,
   "metadata": {},
   "outputs": [
    {
     "data": {
      "text/plain": [
       "32909.0"
      ]
     },
     "execution_count": 48,
     "metadata": {},
     "output_type": "execute_result"
    }
   ],
   "source": [
    "data4['WTKG3'].max()"
   ]
  },
  {
   "cell_type": "code",
   "execution_count": 49,
   "metadata": {},
   "outputs": [],
   "source": [
    "def show_decimal(i):\n",
    "    i = i/100\n",
    "    return i"
   ]
  },
  {
   "cell_type": "code",
   "execution_count": 50,
   "metadata": {},
   "outputs": [],
   "source": [
    "data4['WTKG3'] = data4['WTKG3'].apply(show_decimal)"
   ]
  },
  {
   "cell_type": "code",
   "execution_count": 51,
   "metadata": {},
   "outputs": [
    {
     "data": {
      "text/plain": [
       "80.18330610215102"
      ]
     },
     "execution_count": 51,
     "metadata": {},
     "output_type": "execute_result"
    }
   ],
   "source": [
    "data4['WTKG3'].mean()"
   ]
  },
  {
   "cell_type": "code",
   "execution_count": 52,
   "metadata": {},
   "outputs": [],
   "source": [
    "def replace_bmi5(i):\n",
    "    if i == 9999:\n",
    "        i = None\n",
    "    return i  "
   ]
  },
  {
   "cell_type": "code",
   "execution_count": 53,
   "metadata": {},
   "outputs": [],
   "source": [
    "data4['_BMI5'] = data4['_BMI5'].apply(replace_bmi5)"
   ]
  },
  {
   "cell_type": "code",
   "execution_count": 54,
   "metadata": {},
   "outputs": [
    {
     "data": {
      "text/plain": [
       "9998.0"
      ]
     },
     "execution_count": 54,
     "metadata": {},
     "output_type": "execute_result"
    }
   ],
   "source": [
    "data4['_BMI5'].max()"
   ]
  },
  {
   "cell_type": "code",
   "execution_count": 55,
   "metadata": {},
   "outputs": [],
   "source": [
    "data4['_BMI5'] = data4['_BMI5'].apply(show_decimal)"
   ]
  },
  {
   "cell_type": "code",
   "execution_count": 56,
   "metadata": {},
   "outputs": [
    {
     "data": {
      "text/plain": [
       "27.848822071344145"
      ]
     },
     "execution_count": 56,
     "metadata": {},
     "output_type": "execute_result"
    }
   ],
   "source": [
    "data4['_BMI5'].mean()"
   ]
  },
  {
   "cell_type": "code",
   "execution_count": 57,
   "metadata": {
    "scrolled": true
   },
   "outputs": [
    {
     "data": {
      "text/plain": [
       "_TOTINDA    0.000000\n",
       "WTKG3       0.011365\n",
       "CVDINFR4    0.000000\n",
       "PNEUVAC3    0.000000\n",
       "ASTHMA3     0.000000\n",
       "SEX         0.000000\n",
       "MEDCOST     0.000000\n",
       "CVDCRHD4    0.000000\n",
       "_STATE      0.000000\n",
       "MENTHLTH    0.000000\n",
       "EXERANY2    0.000000\n",
       "CHILDREN    0.000000\n",
       "DRNKANY5    0.000000\n",
       "GENHLTH     0.000000\n",
       "DROCDY3_    0.000000\n",
       "SMOKE100    0.000000\n",
       "_BMI5       0.013159\n",
       "DIABETE3    0.000000\n",
       "CVDSTRK3    0.000000\n",
       "PHYSHLTH    0.000000\n",
       "_SMOKER3    0.000000\n",
       "MARITAL     0.000000\n",
       "_EDUCAG     0.000000\n",
       "IYEAR       0.000000\n",
       "_AGEG5YR    0.000000\n",
       "PERSDOC2    0.000000\n",
       "HTM4        0.000000\n",
       "CHECKUP1    0.000000\n",
       "_INCOMG     0.000000\n",
       "dtype: float64"
      ]
     },
     "execution_count": 57,
     "metadata": {},
     "output_type": "execute_result"
    }
   ],
   "source": [
    "data4.isna().sum()/len(data4)"
   ]
  },
  {
   "cell_type": "code",
   "execution_count": 59,
   "metadata": {},
   "outputs": [
    {
     "data": {
      "text/plain": [
       "(4215003, 29)"
      ]
     },
     "execution_count": 59,
     "metadata": {},
     "output_type": "execute_result"
    }
   ],
   "source": [
    "data4.shape"
   ]
  },
  {
   "cell_type": "code",
   "execution_count": 61,
   "metadata": {},
   "outputs": [],
   "source": [
    "data5 = data4[data4['IYEAR']!= 2018]"
   ]
  },
  {
   "cell_type": "code",
   "execution_count": 62,
   "metadata": {},
   "outputs": [
    {
     "data": {
      "text/plain": [
       "(4205491, 29)"
      ]
     },
     "execution_count": 62,
     "metadata": {},
     "output_type": "execute_result"
    }
   ],
   "source": [
    "data5.shape"
   ]
  },
  {
   "cell_type": "code",
   "execution_count": 63,
   "metadata": {},
   "outputs": [],
   "source": [
    "data6 = data5.dropna()"
   ]
  },
  {
   "cell_type": "code",
   "execution_count": 64,
   "metadata": {},
   "outputs": [
    {
     "data": {
      "text/plain": [
       "(4150027, 29)"
      ]
     },
     "execution_count": 64,
     "metadata": {},
     "output_type": "execute_result"
    }
   ],
   "source": [
    "data6.shape"
   ]
  },
  {
   "cell_type": "code",
   "execution_count": 65,
   "metadata": {},
   "outputs": [
    {
     "data": {
      "text/plain": [
       "_TOTINDA    0\n",
       "WTKG3       0\n",
       "CVDINFR4    0\n",
       "PNEUVAC3    0\n",
       "ASTHMA3     0\n",
       "SEX         0\n",
       "MEDCOST     0\n",
       "CVDCRHD4    0\n",
       "_STATE      0\n",
       "MENTHLTH    0\n",
       "EXERANY2    0\n",
       "CHILDREN    0\n",
       "DRNKANY5    0\n",
       "GENHLTH     0\n",
       "DROCDY3_    0\n",
       "SMOKE100    0\n",
       "_BMI5       0\n",
       "DIABETE3    0\n",
       "CVDSTRK3    0\n",
       "PHYSHLTH    0\n",
       "_SMOKER3    0\n",
       "MARITAL     0\n",
       "_EDUCAG     0\n",
       "IYEAR       0\n",
       "_AGEG5YR    0\n",
       "PERSDOC2    0\n",
       "HTM4        0\n",
       "CHECKUP1    0\n",
       "_INCOMG     0\n",
       "dtype: int64"
      ]
     },
     "execution_count": 65,
     "metadata": {},
     "output_type": "execute_result"
    }
   ],
   "source": [
    "data6.isna().sum()"
   ]
  },
  {
   "cell_type": "code",
   "execution_count": 66,
   "metadata": {},
   "outputs": [],
   "source": [
    "data6.to_csv('BRFSS_2008_to_2017_cleaned_final.csv',index = False)"
   ]
  },
  {
   "cell_type": "code",
   "execution_count": 1,
   "metadata": {},
   "outputs": [],
   "source": [
    "## Add unique identifier\n",
    "import pandas as pd\n",
    "df = pd.read_csv('BRFSS_2008_to_2017_cleaned_final.csv')\n",
    "df['id_for_plot'] = range(len(df))"
   ]
  },
  {
   "cell_type": "code",
   "execution_count": 3,
   "metadata": {},
   "outputs": [
    {
     "data": {
      "text/html": [
       "<div>\n",
       "<style scoped>\n",
       "    .dataframe tbody tr th:only-of-type {\n",
       "        vertical-align: middle;\n",
       "    }\n",
       "\n",
       "    .dataframe tbody tr th {\n",
       "        vertical-align: top;\n",
       "    }\n",
       "\n",
       "    .dataframe thead th {\n",
       "        text-align: right;\n",
       "    }\n",
       "</style>\n",
       "<table border=\"1\" class=\"dataframe\">\n",
       "  <thead>\n",
       "    <tr style=\"text-align: right;\">\n",
       "      <th></th>\n",
       "      <th>0</th>\n",
       "      <th>1</th>\n",
       "      <th>2</th>\n",
       "      <th>3</th>\n",
       "      <th>4</th>\n",
       "    </tr>\n",
       "  </thead>\n",
       "  <tbody>\n",
       "    <tr>\n",
       "      <th>_TOTINDA</th>\n",
       "      <td>Had physical activity or exercise</td>\n",
       "      <td>Had physical activity or exercise</td>\n",
       "      <td>No physical activity or exercise in last 30 days</td>\n",
       "      <td>No physical activity or exercise in last 30 days</td>\n",
       "      <td>Had physical activity or exercise</td>\n",
       "    </tr>\n",
       "    <tr>\n",
       "      <th>WTKG3</th>\n",
       "      <td>73.48</td>\n",
       "      <td>95.71</td>\n",
       "      <td>88.45</td>\n",
       "      <td>63.5</td>\n",
       "      <td>88.9</td>\n",
       "    </tr>\n",
       "    <tr>\n",
       "      <th>CVDINFR4</th>\n",
       "      <td>No</td>\n",
       "      <td>No</td>\n",
       "      <td>No</td>\n",
       "      <td>No</td>\n",
       "      <td>Yes</td>\n",
       "    </tr>\n",
       "    <tr>\n",
       "      <th>PNEUVAC3</th>\n",
       "      <td>Yes</td>\n",
       "      <td>Yes</td>\n",
       "      <td>Yes</td>\n",
       "      <td>No</td>\n",
       "      <td>No</td>\n",
       "    </tr>\n",
       "    <tr>\n",
       "      <th>ASTHMA3</th>\n",
       "      <td>No</td>\n",
       "      <td>No</td>\n",
       "      <td>No</td>\n",
       "      <td>Yes</td>\n",
       "      <td>No</td>\n",
       "    </tr>\n",
       "    <tr>\n",
       "      <th>SEX</th>\n",
       "      <td>Female</td>\n",
       "      <td>Male</td>\n",
       "      <td>Male</td>\n",
       "      <td>Female</td>\n",
       "      <td>Male</td>\n",
       "    </tr>\n",
       "    <tr>\n",
       "      <th>MEDCOST</th>\n",
       "      <td>No</td>\n",
       "      <td>No</td>\n",
       "      <td>No</td>\n",
       "      <td>No</td>\n",
       "      <td>No</td>\n",
       "    </tr>\n",
       "    <tr>\n",
       "      <th>CVDCRHD4</th>\n",
       "      <td>No</td>\n",
       "      <td>No</td>\n",
       "      <td>No</td>\n",
       "      <td>No</td>\n",
       "      <td>No</td>\n",
       "    </tr>\n",
       "    <tr>\n",
       "      <th>_STATE</th>\n",
       "      <td>Alabama</td>\n",
       "      <td>Alabama</td>\n",
       "      <td>Alabama</td>\n",
       "      <td>Alabama</td>\n",
       "      <td>Alabama</td>\n",
       "    </tr>\n",
       "    <tr>\n",
       "      <th>MENTHLTH</th>\n",
       "      <td>0</td>\n",
       "      <td>0</td>\n",
       "      <td>0</td>\n",
       "      <td>0</td>\n",
       "      <td>0</td>\n",
       "    </tr>\n",
       "    <tr>\n",
       "      <th>EXERANY2</th>\n",
       "      <td>Yes</td>\n",
       "      <td>Yes</td>\n",
       "      <td>No</td>\n",
       "      <td>No</td>\n",
       "      <td>Yes</td>\n",
       "    </tr>\n",
       "    <tr>\n",
       "      <th>CHILDREN</th>\n",
       "      <td>0</td>\n",
       "      <td>0</td>\n",
       "      <td>0</td>\n",
       "      <td>0</td>\n",
       "      <td>0</td>\n",
       "    </tr>\n",
       "    <tr>\n",
       "      <th>DRNKANY5</th>\n",
       "      <td>No</td>\n",
       "      <td>No</td>\n",
       "      <td>Yes</td>\n",
       "      <td>No</td>\n",
       "      <td>Yes</td>\n",
       "    </tr>\n",
       "    <tr>\n",
       "      <th>GENHLTH</th>\n",
       "      <td>Very good</td>\n",
       "      <td>Very good</td>\n",
       "      <td>Good</td>\n",
       "      <td>Fair</td>\n",
       "      <td>Good</td>\n",
       "    </tr>\n",
       "    <tr>\n",
       "      <th>DROCDY3_</th>\n",
       "      <td>5.397605346934027e-79</td>\n",
       "      <td>5.397605346934027e-79</td>\n",
       "      <td>14.0</td>\n",
       "      <td>5.397605346934027e-79</td>\n",
       "      <td>29.0</td>\n",
       "    </tr>\n",
       "    <tr>\n",
       "      <th>SMOKE100</th>\n",
       "      <td>No</td>\n",
       "      <td>No</td>\n",
       "      <td>No</td>\n",
       "      <td>Yes</td>\n",
       "      <td>Yes</td>\n",
       "    </tr>\n",
       "    <tr>\n",
       "      <th>_BMI5</th>\n",
       "      <td>26.96</td>\n",
       "      <td>29.43</td>\n",
       "      <td>25.04</td>\n",
       "      <td>23.3</td>\n",
       "      <td>27.34</td>\n",
       "    </tr>\n",
       "    <tr>\n",
       "      <th>DIABETE3</th>\n",
       "      <td>Yes</td>\n",
       "      <td>No</td>\n",
       "      <td>No</td>\n",
       "      <td>No</td>\n",
       "      <td>No</td>\n",
       "    </tr>\n",
       "    <tr>\n",
       "      <th>CVDSTRK3</th>\n",
       "      <td>No</td>\n",
       "      <td>No</td>\n",
       "      <td>No</td>\n",
       "      <td>No</td>\n",
       "      <td>No</td>\n",
       "    </tr>\n",
       "    <tr>\n",
       "      <th>PHYSHLTH</th>\n",
       "      <td>0</td>\n",
       "      <td>0</td>\n",
       "      <td>0</td>\n",
       "      <td>14</td>\n",
       "      <td>6</td>\n",
       "    </tr>\n",
       "    <tr>\n",
       "      <th>_SMOKER3</th>\n",
       "      <td>Never Smoked</td>\n",
       "      <td>Never Smoked</td>\n",
       "      <td>Never Smoked</td>\n",
       "      <td>Former Smoker</td>\n",
       "      <td>Everyday</td>\n",
       "    </tr>\n",
       "    <tr>\n",
       "      <th>MARITAL</th>\n",
       "      <td>Widowed</td>\n",
       "      <td>Married</td>\n",
       "      <td>Married</td>\n",
       "      <td>Widowed</td>\n",
       "      <td>Widowed</td>\n",
       "    </tr>\n",
       "    <tr>\n",
       "      <th>_EDUCAG</th>\n",
       "      <td>Graduated from College or Technical School</td>\n",
       "      <td>Graduated from College or Technical School</td>\n",
       "      <td>Did not graduate High School</td>\n",
       "      <td>Did not graduate High School</td>\n",
       "      <td>Graduated High School</td>\n",
       "    </tr>\n",
       "    <tr>\n",
       "      <th>IYEAR</th>\n",
       "      <td>2017</td>\n",
       "      <td>2017</td>\n",
       "      <td>2017</td>\n",
       "      <td>2017</td>\n",
       "      <td>2017</td>\n",
       "    </tr>\n",
       "    <tr>\n",
       "      <th>_AGEG5YR</th>\n",
       "      <td>70-74</td>\n",
       "      <td>65-69</td>\n",
       "      <td>70-74</td>\n",
       "      <td>65-69</td>\n",
       "      <td>75-79</td>\n",
       "    </tr>\n",
       "    <tr>\n",
       "      <th>PERSDOC2</th>\n",
       "      <td>Yes, only one</td>\n",
       "      <td>Yes, only one</td>\n",
       "      <td>Yes, only one</td>\n",
       "      <td>Yes, only one</td>\n",
       "      <td>Yes, only one</td>\n",
       "    </tr>\n",
       "    <tr>\n",
       "      <th>HTM4</th>\n",
       "      <td>165</td>\n",
       "      <td>180</td>\n",
       "      <td>188</td>\n",
       "      <td>165</td>\n",
       "      <td>180</td>\n",
       "    </tr>\n",
       "    <tr>\n",
       "      <th>CHECKUP1</th>\n",
       "      <td>Within past 2 years</td>\n",
       "      <td>Within past year</td>\n",
       "      <td>Within past year</td>\n",
       "      <td>Within past year</td>\n",
       "      <td>Within past year</td>\n",
       "    </tr>\n",
       "    <tr>\n",
       "      <th>_INCOMG</th>\n",
       "      <td>$35,000 to less than $50,000</td>\n",
       "      <td>$50,000 or more</td>\n",
       "      <td>Don’t know/Not sure</td>\n",
       "      <td>Less than $15,000</td>\n",
       "      <td>$15,000 to less than $25,000</td>\n",
       "    </tr>\n",
       "    <tr>\n",
       "      <th>id_for_plot</th>\n",
       "      <td>0</td>\n",
       "      <td>1</td>\n",
       "      <td>2</td>\n",
       "      <td>3</td>\n",
       "      <td>4</td>\n",
       "    </tr>\n",
       "  </tbody>\n",
       "</table>\n",
       "</div>"
      ],
      "text/plain": [
       "                                                      0  \\\n",
       "_TOTINDA              Had physical activity or exercise   \n",
       "WTKG3                                             73.48   \n",
       "CVDINFR4                                             No   \n",
       "PNEUVAC3                                            Yes   \n",
       "ASTHMA3                                              No   \n",
       "SEX                                              Female   \n",
       "MEDCOST                                              No   \n",
       "CVDCRHD4                                             No   \n",
       "_STATE                                          Alabama   \n",
       "MENTHLTH                                              0   \n",
       "EXERANY2                                            Yes   \n",
       "CHILDREN                                              0   \n",
       "DRNKANY5                                             No   \n",
       "GENHLTH                                       Very good   \n",
       "DROCDY3_                          5.397605346934027e-79   \n",
       "SMOKE100                                             No   \n",
       "_BMI5                                             26.96   \n",
       "DIABETE3                                            Yes   \n",
       "CVDSTRK3                                             No   \n",
       "PHYSHLTH                                              0   \n",
       "_SMOKER3                                   Never Smoked   \n",
       "MARITAL                                         Widowed   \n",
       "_EDUCAG      Graduated from College or Technical School   \n",
       "IYEAR                                              2017   \n",
       "_AGEG5YR                                          70-74   \n",
       "PERSDOC2                                  Yes, only one   \n",
       "HTM4                                                165   \n",
       "CHECKUP1                            Within past 2 years   \n",
       "_INCOMG                    $35,000 to less than $50,000   \n",
       "id_for_plot                                           0   \n",
       "\n",
       "                                                      1  \\\n",
       "_TOTINDA              Had physical activity or exercise   \n",
       "WTKG3                                             95.71   \n",
       "CVDINFR4                                             No   \n",
       "PNEUVAC3                                            Yes   \n",
       "ASTHMA3                                              No   \n",
       "SEX                                                Male   \n",
       "MEDCOST                                              No   \n",
       "CVDCRHD4                                             No   \n",
       "_STATE                                          Alabama   \n",
       "MENTHLTH                                              0   \n",
       "EXERANY2                                            Yes   \n",
       "CHILDREN                                              0   \n",
       "DRNKANY5                                             No   \n",
       "GENHLTH                                       Very good   \n",
       "DROCDY3_                          5.397605346934027e-79   \n",
       "SMOKE100                                             No   \n",
       "_BMI5                                             29.43   \n",
       "DIABETE3                                             No   \n",
       "CVDSTRK3                                             No   \n",
       "PHYSHLTH                                              0   \n",
       "_SMOKER3                                   Never Smoked   \n",
       "MARITAL                                         Married   \n",
       "_EDUCAG      Graduated from College or Technical School   \n",
       "IYEAR                                              2017   \n",
       "_AGEG5YR                                          65-69   \n",
       "PERSDOC2                                  Yes, only one   \n",
       "HTM4                                                180   \n",
       "CHECKUP1                               Within past year   \n",
       "_INCOMG                                 $50,000 or more   \n",
       "id_for_plot                                           1   \n",
       "\n",
       "                                                            2  \\\n",
       "_TOTINDA     No physical activity or exercise in last 30 days   \n",
       "WTKG3                                                   88.45   \n",
       "CVDINFR4                                                   No   \n",
       "PNEUVAC3                                                  Yes   \n",
       "ASTHMA3                                                    No   \n",
       "SEX                                                      Male   \n",
       "MEDCOST                                                    No   \n",
       "CVDCRHD4                                                   No   \n",
       "_STATE                                                Alabama   \n",
       "MENTHLTH                                                    0   \n",
       "EXERANY2                                                   No   \n",
       "CHILDREN                                                    0   \n",
       "DRNKANY5                                                  Yes   \n",
       "GENHLTH                                                  Good   \n",
       "DROCDY3_                                                 14.0   \n",
       "SMOKE100                                                   No   \n",
       "_BMI5                                                   25.04   \n",
       "DIABETE3                                                   No   \n",
       "CVDSTRK3                                                   No   \n",
       "PHYSHLTH                                                    0   \n",
       "_SMOKER3                                         Never Smoked   \n",
       "MARITAL                                               Married   \n",
       "_EDUCAG                          Did not graduate High School   \n",
       "IYEAR                                                    2017   \n",
       "_AGEG5YR                                                70-74   \n",
       "PERSDOC2                                        Yes, only one   \n",
       "HTM4                                                      188   \n",
       "CHECKUP1                                     Within past year   \n",
       "_INCOMG                                   Don’t know/Not sure   \n",
       "id_for_plot                                                 2   \n",
       "\n",
       "                                                            3  \\\n",
       "_TOTINDA     No physical activity or exercise in last 30 days   \n",
       "WTKG3                                                    63.5   \n",
       "CVDINFR4                                                   No   \n",
       "PNEUVAC3                                                   No   \n",
       "ASTHMA3                                                   Yes   \n",
       "SEX                                                    Female   \n",
       "MEDCOST                                                    No   \n",
       "CVDCRHD4                                                   No   \n",
       "_STATE                                                Alabama   \n",
       "MENTHLTH                                                    0   \n",
       "EXERANY2                                                   No   \n",
       "CHILDREN                                                    0   \n",
       "DRNKANY5                                                   No   \n",
       "GENHLTH                                                  Fair   \n",
       "DROCDY3_                                5.397605346934027e-79   \n",
       "SMOKE100                                                  Yes   \n",
       "_BMI5                                                    23.3   \n",
       "DIABETE3                                                   No   \n",
       "CVDSTRK3                                                   No   \n",
       "PHYSHLTH                                                   14   \n",
       "_SMOKER3                                        Former Smoker   \n",
       "MARITAL                                               Widowed   \n",
       "_EDUCAG                          Did not graduate High School   \n",
       "IYEAR                                                    2017   \n",
       "_AGEG5YR                                                65-69   \n",
       "PERSDOC2                                        Yes, only one   \n",
       "HTM4                                                      165   \n",
       "CHECKUP1                                     Within past year   \n",
       "_INCOMG                                     Less than $15,000   \n",
       "id_for_plot                                                 3   \n",
       "\n",
       "                                             4  \n",
       "_TOTINDA     Had physical activity or exercise  \n",
       "WTKG3                                     88.9  \n",
       "CVDINFR4                                   Yes  \n",
       "PNEUVAC3                                    No  \n",
       "ASTHMA3                                     No  \n",
       "SEX                                       Male  \n",
       "MEDCOST                                     No  \n",
       "CVDCRHD4                                    No  \n",
       "_STATE                                 Alabama  \n",
       "MENTHLTH                                     0  \n",
       "EXERANY2                                   Yes  \n",
       "CHILDREN                                     0  \n",
       "DRNKANY5                                   Yes  \n",
       "GENHLTH                                   Good  \n",
       "DROCDY3_                                  29.0  \n",
       "SMOKE100                                   Yes  \n",
       "_BMI5                                    27.34  \n",
       "DIABETE3                                    No  \n",
       "CVDSTRK3                                    No  \n",
       "PHYSHLTH                                     6  \n",
       "_SMOKER3                              Everyday  \n",
       "MARITAL                                Widowed  \n",
       "_EDUCAG                  Graduated High School  \n",
       "IYEAR                                     2017  \n",
       "_AGEG5YR                                 75-79  \n",
       "PERSDOC2                         Yes, only one  \n",
       "HTM4                                       180  \n",
       "CHECKUP1                      Within past year  \n",
       "_INCOMG           $15,000 to less than $25,000  \n",
       "id_for_plot                                  4  "
      ]
     },
     "execution_count": 3,
     "metadata": {},
     "output_type": "execute_result"
    }
   ],
   "source": [
    "df.head().transpose()"
   ]
  },
  {
   "cell_type": "code",
   "execution_count": 4,
   "metadata": {},
   "outputs": [],
   "source": [
    "df.to_csv('BRFSS_2008_to_2017_cleaned_final_add_id.csv',index = False)"
   ]
  }
 ],
 "metadata": {
  "kernelspec": {
   "display_name": "Python 3",
   "language": "python",
   "name": "python3"
  },
  "language_info": {
   "codemirror_mode": {
    "name": "ipython",
    "version": 3
   },
   "file_extension": ".py",
   "mimetype": "text/x-python",
   "name": "python",
   "nbconvert_exporter": "python",
   "pygments_lexer": "ipython3",
   "version": "3.7.1"
  },
  "toc": {
   "base_numbering": 1,
   "nav_menu": {},
   "number_sections": true,
   "sideBar": true,
   "skip_h1_title": false,
   "title_cell": "Table of Contents",
   "title_sidebar": "Contents",
   "toc_cell": false,
   "toc_position": {
    "height": "398px",
    "left": "393px",
    "top": "110px",
    "width": "256px"
   },
   "toc_section_display": true,
   "toc_window_display": true
  }
 },
 "nbformat": 4,
 "nbformat_minor": 2
}
