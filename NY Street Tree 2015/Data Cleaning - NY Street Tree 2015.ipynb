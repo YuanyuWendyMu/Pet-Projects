{
 "cells": [
  {
   "cell_type": "code",
   "execution_count": 1,
   "metadata": {},
   "outputs": [],
   "source": [
    "import pandas as pd\n",
    "import numpy as np"
   ]
  },
  {
   "cell_type": "code",
   "execution_count": 2,
   "metadata": {},
   "outputs": [],
   "source": [
    "df = pd.read_csv('2015-street-tree-census-tree-data.csv')"
   ]
  },
  {
   "cell_type": "markdown",
   "metadata": {},
   "source": [
    "#### Take a peak."
   ]
  },
  {
   "cell_type": "code",
   "execution_count": 3,
   "metadata": {},
   "outputs": [
    {
     "data": {
      "text/plain": [
       "(683788, 45)"
      ]
     },
     "execution_count": 3,
     "metadata": {},
     "output_type": "execute_result"
    }
   ],
   "source": [
    "df.shape"
   ]
  },
  {
   "cell_type": "code",
   "execution_count": 5,
   "metadata": {},
   "outputs": [
    {
     "data": {
      "text/plain": [
       "tree_id                 0\n",
       "block_id                0\n",
       "created_at              0\n",
       "tree_dbh                0\n",
       "stump_diam              0\n",
       "curb_loc                0\n",
       "status                  0\n",
       "health              31616\n",
       "spc_latin           31619\n",
       "spc_common          31619\n",
       "steward             31615\n",
       "guards              31616\n",
       "sidewalk            31616\n",
       "user_type               0\n",
       "problems            31664\n",
       "root_stone              0\n",
       "root_grate              0\n",
       "root_other              0\n",
       "trunk_wire              0\n",
       "trnk_light              0\n",
       "trnk_other              0\n",
       "brch_light              0\n",
       "brch_shoe               0\n",
       "brch_other              0\n",
       "address                 0\n",
       "postcode                0\n",
       "zip_city                0\n",
       "community board         0\n",
       "borocode                0\n",
       "borough                 0\n",
       "cncldist                0\n",
       "st_assem                0\n",
       "st_senate               0\n",
       "nta                     0\n",
       "nta_name                0\n",
       "boro_ct                 0\n",
       "state                   0\n",
       "latitude                0\n",
       "longitude               0\n",
       "x_sp                    0\n",
       "y_sp                    0\n",
       "council district     6519\n",
       "census tract         6519\n",
       "bin                  9559\n",
       "bbl                  9559\n",
       "dtype: int64"
      ]
     },
     "execution_count": 5,
     "metadata": {},
     "output_type": "execute_result"
    }
   ],
   "source": [
    "df.isna().sum()"
   ]
  },
  {
   "cell_type": "markdown",
   "metadata": {},
   "source": [
    "#### Drop columns that will not be used for analysis."
   ]
  },
  {
   "cell_type": "code",
   "execution_count": 39,
   "metadata": {},
   "outputs": [],
   "source": [
    "df1 = df.drop(columns = ['council district','census tract','bin','bbl'])"
   ]
  },
  {
   "cell_type": "markdown",
   "metadata": {},
   "source": [
    "#### NAs!\n",
    "There are a lot of NAs in *spc_latin*, *spc_common*, *health*,*steward*,*problem*, *guards*, *sidewalk*. A noticable thing is that these fields have a similar number of NAs. My initial guess is that only live trees (*status* = 'Alive') has these information. To prove the theory, I splited **df1** into two dataframes: **test_df**, which only has live trees; **test_df2**, which only has dead trees or stumps."
   ]
  },
  {
   "cell_type": "code",
   "execution_count": 12,
   "metadata": {},
   "outputs": [
    {
     "data": {
      "text/plain": [
       "array(['Alive', 'Stump', 'Dead'], dtype=object)"
      ]
     },
     "execution_count": 12,
     "metadata": {},
     "output_type": "execute_result"
    }
   ],
   "source": [
    "df1['status'].unique()"
   ]
  },
  {
   "cell_type": "code",
   "execution_count": 63,
   "metadata": {},
   "outputs": [],
   "source": [
    "test_df = df1[df1['status'] == 'Alive']"
   ]
  },
  {
   "cell_type": "code",
   "execution_count": 83,
   "metadata": {},
   "outputs": [],
   "source": [
    "test_df2 = df1[df1['status'] != 'Alive']"
   ]
  },
  {
   "cell_type": "markdown",
   "metadata": {},
   "source": [
    "Check if the split is correct."
   ]
  },
  {
   "cell_type": "code",
   "execution_count": 109,
   "metadata": {},
   "outputs": [
    {
     "data": {
      "text/plain": [
       "True"
      ]
     },
     "execution_count": 109,
     "metadata": {},
     "output_type": "execute_result"
    }
   ],
   "source": [
    "len(test_df) + len(test_df2) == len(df1)"
   ]
  },
  {
   "cell_type": "markdown",
   "metadata": {},
   "source": [
    "Check NAs in **test_df** and **test_df2**."
   ]
  },
  {
   "cell_type": "code",
   "execution_count": 64,
   "metadata": {},
   "outputs": [
    {
     "data": {
      "text/plain": [
       "tree_id             0\n",
       "block_id            0\n",
       "created_at          0\n",
       "tree_dbh            0\n",
       "stump_diam          0\n",
       "curb_loc            0\n",
       "status              0\n",
       "health              1\n",
       "spc_latin           5\n",
       "spc_common          5\n",
       "steward             0\n",
       "guards              1\n",
       "sidewalk            1\n",
       "user_type           0\n",
       "problems           49\n",
       "root_stone          0\n",
       "root_grate          0\n",
       "root_other          0\n",
       "trunk_wire          0\n",
       "trnk_light          0\n",
       "trnk_other          0\n",
       "brch_light          0\n",
       "brch_shoe           0\n",
       "brch_other          0\n",
       "address             0\n",
       "postcode            0\n",
       "zip_city            0\n",
       "community board     0\n",
       "borocode            0\n",
       "borough             0\n",
       "cncldist            0\n",
       "st_assem            0\n",
       "st_senate           0\n",
       "nta                 0\n",
       "nta_name            0\n",
       "boro_ct             0\n",
       "state               0\n",
       "latitude            0\n",
       "longitude           0\n",
       "x_sp                0\n",
       "y_sp                0\n",
       "dtype: int64"
      ]
     },
     "execution_count": 64,
     "metadata": {},
     "output_type": "execute_result"
    }
   ],
   "source": [
    "test_df.isnull().sum()"
   ]
  },
  {
   "cell_type": "code",
   "execution_count": 85,
   "metadata": {},
   "outputs": [
    {
     "data": {
      "text/plain": [
       "tree_id                0\n",
       "block_id               0\n",
       "created_at             0\n",
       "tree_dbh               0\n",
       "stump_diam             0\n",
       "curb_loc               0\n",
       "status                 0\n",
       "health             31615\n",
       "spc_latin          31614\n",
       "spc_common         31614\n",
       "steward            31615\n",
       "guards             31615\n",
       "sidewalk           31615\n",
       "user_type              0\n",
       "problems           31615\n",
       "root_stone             0\n",
       "root_grate             0\n",
       "root_other             0\n",
       "trunk_wire             0\n",
       "trnk_light             0\n",
       "trnk_other             0\n",
       "brch_light             0\n",
       "brch_shoe              0\n",
       "brch_other             0\n",
       "address                0\n",
       "postcode               0\n",
       "zip_city               0\n",
       "community board        0\n",
       "borocode               0\n",
       "borough                0\n",
       "cncldist               0\n",
       "st_assem               0\n",
       "st_senate              0\n",
       "nta                    0\n",
       "nta_name               0\n",
       "boro_ct                0\n",
       "state                  0\n",
       "latitude               0\n",
       "longitude              0\n",
       "x_sp                   0\n",
       "y_sp                   0\n",
       "dtype: int64"
      ]
     },
     "execution_count": 85,
     "metadata": {},
     "output_type": "execute_result"
    }
   ],
   "source": [
    "test_df2.isna().sum()"
   ]
  },
  {
   "cell_type": "code",
   "execution_count": 110,
   "metadata": {},
   "outputs": [
    {
     "data": {
      "text/plain": [
       "31615"
      ]
     },
     "execution_count": 110,
     "metadata": {},
     "output_type": "execute_result"
    }
   ],
   "source": [
    "len(test_df2)"
   ]
  },
  {
   "cell_type": "markdown",
   "metadata": {},
   "source": [
    "There are total 31615 records in **test_df2**, and all these records do not have *health*,*steward*,*guards*,*sidewalk* and *problem* value. Most records, expert for 1 record, do not have *spc_latin* and *spc_common* value. Let's take a look at this record."
   ]
  },
  {
   "cell_type": "code",
   "execution_count": 86,
   "metadata": {},
   "outputs": [],
   "source": [
    "spc_null = test_df2[test_df2['spc_common'].notnull()]"
   ]
  },
  {
   "cell_type": "code",
   "execution_count": 87,
   "metadata": {},
   "outputs": [],
   "source": [
    "dead_but_has_spc = spc_null[spc_null['status'] != 'Alive']"
   ]
  },
  {
   "cell_type": "code",
   "execution_count": 88,
   "metadata": {},
   "outputs": [
    {
     "data": {
      "text/html": [
       "<div>\n",
       "<style scoped>\n",
       "    .dataframe tbody tr th:only-of-type {\n",
       "        vertical-align: middle;\n",
       "    }\n",
       "\n",
       "    .dataframe tbody tr th {\n",
       "        vertical-align: top;\n",
       "    }\n",
       "\n",
       "    .dataframe thead th {\n",
       "        text-align: right;\n",
       "    }\n",
       "</style>\n",
       "<table border=\"1\" class=\"dataframe\">\n",
       "  <thead>\n",
       "    <tr style=\"text-align: right;\">\n",
       "      <th></th>\n",
       "      <th>tree_id</th>\n",
       "      <th>block_id</th>\n",
       "      <th>created_at</th>\n",
       "      <th>tree_dbh</th>\n",
       "      <th>stump_diam</th>\n",
       "      <th>curb_loc</th>\n",
       "      <th>status</th>\n",
       "      <th>health</th>\n",
       "      <th>spc_latin</th>\n",
       "      <th>spc_common</th>\n",
       "      <th>...</th>\n",
       "      <th>st_assem</th>\n",
       "      <th>st_senate</th>\n",
       "      <th>nta</th>\n",
       "      <th>nta_name</th>\n",
       "      <th>boro_ct</th>\n",
       "      <th>state</th>\n",
       "      <th>latitude</th>\n",
       "      <th>longitude</th>\n",
       "      <th>x_sp</th>\n",
       "      <th>y_sp</th>\n",
       "    </tr>\n",
       "  </thead>\n",
       "  <tbody>\n",
       "    <tr>\n",
       "      <th>263498</th>\n",
       "      <td>473703</td>\n",
       "      <td>102385</td>\n",
       "      <td>2015-11-19T00:00:00.000</td>\n",
       "      <td>12</td>\n",
       "      <td>0</td>\n",
       "      <td>OffsetFromCurb</td>\n",
       "      <td>Dead</td>\n",
       "      <td>NaN</td>\n",
       "      <td>NaN</td>\n",
       "      <td>NaN</td>\n",
       "      <td>...</td>\n",
       "      <td>65</td>\n",
       "      <td>26</td>\n",
       "      <td>MN28</td>\n",
       "      <td>Lower East Side</td>\n",
       "      <td>1000600</td>\n",
       "      <td>New York</td>\n",
       "      <td>40.710384</td>\n",
       "      <td>-73.988208</td>\n",
       "      <td>987519.0479</td>\n",
       "      <td>198088.8568</td>\n",
       "    </tr>\n",
       "  </tbody>\n",
       "</table>\n",
       "<p>1 rows × 41 columns</p>\n",
       "</div>"
      ],
      "text/plain": [
       "        tree_id  block_id               created_at  tree_dbh  stump_diam  \\\n",
       "263498   473703    102385  2015-11-19T00:00:00.000        12           0   \n",
       "\n",
       "              curb_loc status health spc_latin spc_common  ... st_assem  \\\n",
       "263498  OffsetFromCurb   Dead    NaN       NaN        NaN  ...       65   \n",
       "\n",
       "       st_senate   nta         nta_name  boro_ct     state   latitude  \\\n",
       "263498        26  MN28  Lower East Side  1000600  New York  40.710384   \n",
       "\n",
       "        longitude         x_sp         y_sp  \n",
       "263498 -73.988208  987519.0479  198088.8568  \n",
       "\n",
       "[1 rows x 41 columns]"
      ]
     },
     "execution_count": 88,
     "metadata": {},
     "output_type": "execute_result"
    }
   ],
   "source": [
    "dead_but_has_spc"
   ]
  },
  {
   "cell_type": "markdown",
   "metadata": {},
   "source": [
    "As far as the research concerns, only the species of live trees matter. Therefore, replace *spc_common* and *spc_lation* of the record *tree_id* = 473703 with Null."
   ]
  },
  {
   "cell_type": "code",
   "execution_count": 101,
   "metadata": {},
   "outputs": [],
   "source": [
    "test_df2.loc[test_df2['tree_id'] == 473703, 'spc_latin'] = None\n",
    "test_df2.loc[test_df2['tree_id'] == 473703, 'spc_common'] = None"
   ]
  },
  {
   "cell_type": "code",
   "execution_count": 102,
   "metadata": {},
   "outputs": [
    {
     "data": {
      "text/html": [
       "<div>\n",
       "<style scoped>\n",
       "    .dataframe tbody tr th:only-of-type {\n",
       "        vertical-align: middle;\n",
       "    }\n",
       "\n",
       "    .dataframe tbody tr th {\n",
       "        vertical-align: top;\n",
       "    }\n",
       "\n",
       "    .dataframe thead th {\n",
       "        text-align: right;\n",
       "    }\n",
       "</style>\n",
       "<table border=\"1\" class=\"dataframe\">\n",
       "  <thead>\n",
       "    <tr style=\"text-align: right;\">\n",
       "      <th></th>\n",
       "      <th>tree_id</th>\n",
       "      <th>block_id</th>\n",
       "      <th>created_at</th>\n",
       "      <th>tree_dbh</th>\n",
       "      <th>stump_diam</th>\n",
       "      <th>curb_loc</th>\n",
       "      <th>status</th>\n",
       "      <th>health</th>\n",
       "      <th>spc_latin</th>\n",
       "      <th>spc_common</th>\n",
       "      <th>...</th>\n",
       "      <th>st_assem</th>\n",
       "      <th>st_senate</th>\n",
       "      <th>nta</th>\n",
       "      <th>nta_name</th>\n",
       "      <th>boro_ct</th>\n",
       "      <th>state</th>\n",
       "      <th>latitude</th>\n",
       "      <th>longitude</th>\n",
       "      <th>x_sp</th>\n",
       "      <th>y_sp</th>\n",
       "    </tr>\n",
       "  </thead>\n",
       "  <tbody>\n",
       "    <tr>\n",
       "      <th>263498</th>\n",
       "      <td>473703</td>\n",
       "      <td>102385</td>\n",
       "      <td>2015-11-19T00:00:00.000</td>\n",
       "      <td>12</td>\n",
       "      <td>0</td>\n",
       "      <td>OffsetFromCurb</td>\n",
       "      <td>Dead</td>\n",
       "      <td>NaN</td>\n",
       "      <td>None</td>\n",
       "      <td>None</td>\n",
       "      <td>...</td>\n",
       "      <td>65</td>\n",
       "      <td>26</td>\n",
       "      <td>MN28</td>\n",
       "      <td>Lower East Side</td>\n",
       "      <td>1000600</td>\n",
       "      <td>New York</td>\n",
       "      <td>40.710384</td>\n",
       "      <td>-73.988208</td>\n",
       "      <td>987519.0479</td>\n",
       "      <td>198088.8568</td>\n",
       "    </tr>\n",
       "  </tbody>\n",
       "</table>\n",
       "<p>1 rows × 41 columns</p>\n",
       "</div>"
      ],
      "text/plain": [
       "        tree_id  block_id               created_at  tree_dbh  stump_diam  \\\n",
       "263498   473703    102385  2015-11-19T00:00:00.000        12           0   \n",
       "\n",
       "              curb_loc status health spc_latin spc_common  ... st_assem  \\\n",
       "263498  OffsetFromCurb   Dead    NaN      None       None  ...       65   \n",
       "\n",
       "       st_senate   nta         nta_name  boro_ct     state   latitude  \\\n",
       "263498        26  MN28  Lower East Side  1000600  New York  40.710384   \n",
       "\n",
       "        longitude         x_sp         y_sp  \n",
       "263498 -73.988208  987519.0479  198088.8568  \n",
       "\n",
       "[1 rows x 41 columns]"
      ]
     },
     "execution_count": 102,
     "metadata": {},
     "output_type": "execute_result"
    }
   ],
   "source": [
    "test_df2[test_df2['tree_id'] == 473703]"
   ]
  },
  {
   "cell_type": "code",
   "execution_count": 103,
   "metadata": {},
   "outputs": [
    {
     "data": {
      "text/plain": [
       "tree_id                0\n",
       "block_id               0\n",
       "created_at             0\n",
       "tree_dbh               0\n",
       "stump_diam             0\n",
       "curb_loc               0\n",
       "status                 0\n",
       "health             31615\n",
       "spc_latin          31615\n",
       "spc_common         31615\n",
       "steward            31615\n",
       "guards             31615\n",
       "sidewalk           31615\n",
       "user_type              0\n",
       "problems           31615\n",
       "root_stone             0\n",
       "root_grate             0\n",
       "root_other             0\n",
       "trunk_wire             0\n",
       "trnk_light             0\n",
       "trnk_other             0\n",
       "brch_light             0\n",
       "brch_shoe              0\n",
       "brch_other             0\n",
       "address                0\n",
       "postcode               0\n",
       "zip_city               0\n",
       "community board        0\n",
       "borocode               0\n",
       "borough                0\n",
       "cncldist               0\n",
       "st_assem               0\n",
       "st_senate              0\n",
       "nta                    0\n",
       "nta_name               0\n",
       "boro_ct                0\n",
       "state                  0\n",
       "latitude               0\n",
       "longitude              0\n",
       "x_sp                   0\n",
       "y_sp                   0\n",
       "dtype: int64"
      ]
     },
     "execution_count": 103,
     "metadata": {},
     "output_type": "execute_result"
    }
   ],
   "source": [
    "test_df2.isna().sum()"
   ]
  },
  {
   "cell_type": "markdown",
   "metadata": {},
   "source": [
    "Now that we has done with dead/stump trees, let's look at live trees. For live trees, all columns should not have missing values. Drop the row if there is NA in one or more columns. "
   ]
  },
  {
   "cell_type": "code",
   "execution_count": 66,
   "metadata": {},
   "outputs": [],
   "source": [
    "test_df_cleaned = test_df.dropna()"
   ]
  },
  {
   "cell_type": "code",
   "execution_count": 67,
   "metadata": {},
   "outputs": [
    {
     "data": {
      "text/plain": [
       "(652118, 41)"
      ]
     },
     "execution_count": 67,
     "metadata": {},
     "output_type": "execute_result"
    }
   ],
   "source": [
    "test_df_cleaned.shape"
   ]
  },
  {
   "cell_type": "markdown",
   "metadata": {},
   "source": [
    "Check how many roles were dropped."
   ]
  },
  {
   "cell_type": "code",
   "execution_count": 68,
   "metadata": {},
   "outputs": [
    {
     "data": {
      "text/plain": [
       "55"
      ]
     },
     "execution_count": 68,
     "metadata": {},
     "output_type": "execute_result"
    }
   ],
   "source": [
    "652173 - 652118"
   ]
  },
  {
   "cell_type": "code",
   "execution_count": 69,
   "metadata": {},
   "outputs": [
    {
     "data": {
      "text/plain": [
       "tree_id            0\n",
       "block_id           0\n",
       "created_at         0\n",
       "tree_dbh           0\n",
       "stump_diam         0\n",
       "curb_loc           0\n",
       "status             0\n",
       "health             0\n",
       "spc_latin          0\n",
       "spc_common         0\n",
       "steward            0\n",
       "guards             0\n",
       "sidewalk           0\n",
       "user_type          0\n",
       "problems           0\n",
       "root_stone         0\n",
       "root_grate         0\n",
       "root_other         0\n",
       "trunk_wire         0\n",
       "trnk_light         0\n",
       "trnk_other         0\n",
       "brch_light         0\n",
       "brch_shoe          0\n",
       "brch_other         0\n",
       "address            0\n",
       "postcode           0\n",
       "zip_city           0\n",
       "community board    0\n",
       "borocode           0\n",
       "borough            0\n",
       "cncldist           0\n",
       "st_assem           0\n",
       "st_senate          0\n",
       "nta                0\n",
       "nta_name           0\n",
       "boro_ct            0\n",
       "state              0\n",
       "latitude           0\n",
       "longitude          0\n",
       "x_sp               0\n",
       "y_sp               0\n",
       "dtype: int64"
      ]
     },
     "execution_count": 69,
     "metadata": {},
     "output_type": "execute_result"
    }
   ],
   "source": [
    "test_df_cleaned.isna().sum()"
   ]
  },
  {
   "cell_type": "markdown",
   "metadata": {},
   "source": [
    "Finally, after cleaned **test_df** and **test_df2**, union the two dataframe and reset index."
   ]
  },
  {
   "cell_type": "code",
   "execution_count": 104,
   "metadata": {},
   "outputs": [],
   "source": [
    "final_df = pd.concat([test_df_cleaned,test_df2],ignore_index=True)"
   ]
  },
  {
   "cell_type": "code",
   "execution_count": 105,
   "metadata": {},
   "outputs": [
    {
     "data": {
      "text/plain": [
       "(683733, 41)"
      ]
     },
     "execution_count": 105,
     "metadata": {},
     "output_type": "execute_result"
    }
   ],
   "source": [
    "final_df.shape"
   ]
  },
  {
   "cell_type": "code",
   "execution_count": 112,
   "metadata": {},
   "outputs": [
    {
     "data": {
      "text/plain": [
       "True"
      ]
     },
     "execution_count": 112,
     "metadata": {},
     "output_type": "execute_result"
    }
   ],
   "source": [
    "683788 - 55 == len(final_df)"
   ]
  },
  {
   "cell_type": "code",
   "execution_count": 107,
   "metadata": {},
   "outputs": [
    {
     "data": {
      "text/plain": [
       "tree_id                0\n",
       "block_id               0\n",
       "created_at             0\n",
       "tree_dbh               0\n",
       "stump_diam             0\n",
       "curb_loc               0\n",
       "status                 0\n",
       "health             31615\n",
       "spc_latin          31615\n",
       "spc_common         31615\n",
       "steward            31615\n",
       "guards             31615\n",
       "sidewalk           31615\n",
       "user_type              0\n",
       "problems           31615\n",
       "root_stone             0\n",
       "root_grate             0\n",
       "root_other             0\n",
       "trunk_wire             0\n",
       "trnk_light             0\n",
       "trnk_other             0\n",
       "brch_light             0\n",
       "brch_shoe              0\n",
       "brch_other             0\n",
       "address                0\n",
       "postcode               0\n",
       "zip_city               0\n",
       "community board        0\n",
       "borocode               0\n",
       "borough                0\n",
       "cncldist               0\n",
       "st_assem               0\n",
       "st_senate              0\n",
       "nta                    0\n",
       "nta_name               0\n",
       "boro_ct                0\n",
       "state                  0\n",
       "latitude               0\n",
       "longitude              0\n",
       "x_sp                   0\n",
       "y_sp                   0\n",
       "dtype: int64"
      ]
     },
     "execution_count": 107,
     "metadata": {},
     "output_type": "execute_result"
    }
   ],
   "source": [
    "final_df.isna().sum()"
   ]
  },
  {
   "cell_type": "markdown",
   "metadata": {},
   "source": [
    "#### Export and Done:)"
   ]
  },
  {
   "cell_type": "code",
   "execution_count": 113,
   "metadata": {},
   "outputs": [],
   "source": [
    "final_df.to_csv('NY Street Tree Cleaned.csv', index = False)"
   ]
  }
 ],
 "metadata": {
  "kernelspec": {
   "display_name": "Python 3",
   "language": "python",
   "name": "python3"
  },
  "language_info": {
   "codemirror_mode": {
    "name": "ipython",
    "version": 3
   },
   "file_extension": ".py",
   "mimetype": "text/x-python",
   "name": "python",
   "nbconvert_exporter": "python",
   "pygments_lexer": "ipython3",
   "version": "3.7.3"
  },
  "toc": {
   "base_numbering": 1,
   "nav_menu": {},
   "number_sections": true,
   "sideBar": true,
   "skip_h1_title": false,
   "title_cell": "Table of Contents",
   "title_sidebar": "Contents",
   "toc_cell": false,
   "toc_position": {},
   "toc_section_display": true,
   "toc_window_display": true
  }
 },
 "nbformat": 4,
 "nbformat_minor": 2
}
